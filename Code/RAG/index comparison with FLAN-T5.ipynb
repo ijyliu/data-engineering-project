{
 "cells": [
  {
   "cell_type": "code",
   "execution_count": 50,
   "metadata": {},
   "outputs": [],
   "source": [
    "from pymilvus import Collection, connections\n",
    "from RAG_Functions import *\n",
    "import time\n",
    "from sentence_transformers import SentenceTransformer\n",
    "from transformers import AutoTokenizer, AutoModelForSeq2SeqLM\n",
    "import matplotlib.pyplot as plt"
   ]
  },
  {
   "cell_type": "markdown",
   "metadata": {},
   "source": [
    "## Load models"
   ]
  },
  {
   "cell_type": "code",
   "execution_count": 51,
   "metadata": {},
   "outputs": [],
   "source": [
    "# embedding model\n",
    "embedding_model = SentenceTransformer(\"mixedbread-ai/mxbai-embed-large-v1\")\n",
    "# chat model\n",
    "chat_tokenizer = AutoTokenizer.from_pretrained(\"google/flan-t5-base\")\n",
    "chat_model = AutoModelForSeq2SeqLM.from_pretrained(\"google/flan-t5-base\")"
   ]
  },
  {
   "cell_type": "markdown",
   "metadata": {},
   "source": [
    "## Connect to Milvus collection "
   ]
  },
  {
   "cell_type": "code",
   "execution_count": 52,
   "metadata": {},
   "outputs": [],
   "source": [
    "connections.connect(host='localhost', port='19530')\n",
    "collection_name = 'text_embeddings'\n",
    "collection = Collection(name=collection_name)"
   ]
  },
  {
   "cell_type": "markdown",
   "metadata": {},
   "source": [
    "## Index comparison"
   ]
  },
  {
   "cell_type": "markdown",
   "metadata": {},
   "source": [
    "### IVF_FLAT"
   ]
  },
  {
   "cell_type": "code",
   "execution_count": 53,
   "metadata": {},
   "outputs": [],
   "source": [
    "collection.release()\n",
    "collection.drop_index()\n",
    "index_params = {\n",
    "    \"metric_type\": \"L2\",\n",
    "    \"index_type\": \"IVF_FLAT\",\n",
    "    \"params\": {\"nlist\": 128},\n",
    "    \"index_name\": \"embedding_index\"\n",
    "}\n",
    "collection.create_index(field_name=\"embedding\", index_params=index_params)\n",
    "collection.load()"
   ]
  },
  {
   "cell_type": "code",
   "execution_count": 54,
   "metadata": {},
   "outputs": [
    {
     "name": "stdout",
     "output_type": "stream",
     "text": [
      "(['Marvell: 5.', 'hinge: 15b.', 'BlaBlaCar: (xi) &nbsp.', 'InternetArchive: background: #333.\\n}', 'InternetArchive: background: #333.\\n}'], ['BlaBlaCar_TermsandConditions.txt', 'InternetArchive_Terms.txt', 'Marvell_TermsofUse.txt', 'hinge_Terms.txt'], [148.83514404296875, 150.18243408203125, 151.6111602783203, 151.72889709472656, 151.72889709472656], 0.46414875984191895)\n"
     ]
    }
   ],
   "source": [
    "# Chat with model\n",
    "input_text = input()\n",
    "# Get embedding of input\n",
    "input_embedding = get_mixedbread_of_query(embedding_model, input_text)\n",
    "\n",
    "# Start timing query\n",
    "start_time = time.time()\n",
    "# Top5 sentences\n",
    "top5_sentences_IVF_FLAT = return_top_5_sentences(collection, input_embedding)\n",
    "# End timing query\n",
    "end_time = time.time()\n",
    "\n",
    "print(top5_sentences_IVF_FLAT)"
   ]
  },
  {
   "cell_type": "markdown",
   "metadata": {},
   "source": [
    "### FLAT"
   ]
  },
  {
   "cell_type": "code",
   "execution_count": 55,
   "metadata": {},
   "outputs": [],
   "source": [
    "collection.release()\n",
    "collection.drop_index()\n",
    "index_params = {\n",
    "    \"metric_type\": \"L2\",\n",
    "    \"index_type\": \"FLAT\",\n",
    "    \"index_name\": \"embedding_index\"\n",
    "}\n",
    "collection.create_index(field_name=\"embedding\", index_params=index_params)\n",
    "collection.load()"
   ]
  },
  {
   "cell_type": "code",
   "execution_count": 56,
   "metadata": {},
   "outputs": [
    {
     "name": "stdout",
     "output_type": "stream",
     "text": [
      "(['SCJohnson: T  to slu  ba je v  m bezplatn  .', 'SCJohnson: n  uda oma isikuandmete t    tlemise piiramist (  igus t    tlemise piiramisele).', 'SCJohnson: Na vy    d  n   a v souladu s pravidly   t  t   soukrom   v  m k takov  m informac  m poskytneme p    stup.', 'Marvell: 5.', 'SCJohnson: Teatud olukordades on v  imalik, et SC Johnson peab avalikustama isikuandmeid riigiasutuste seadusliku taotluse alusel, sealhulgas riikliku julgeoleku v  i   iguskaitsealaste n  uete t  itmiseks.'], ['SCJohnson_PRIVACYNOTICE.txt', 'Marvell_TermsofUse.txt'], [143.45860290527344, 147.57640075683594, 148.59974670410156, 148.83514404296875, 149.06329345703125], 0.7795720100402832)\n"
     ]
    }
   ],
   "source": [
    "# Chat with model\n",
    "input_text = input()\n",
    "# Get embedding of input\n",
    "input_embedding = get_mixedbread_of_query(embedding_model, input_text)\n",
    "\n",
    "# Start timing query\n",
    "start_time = time.time()\n",
    "# Top5 sentences\n",
    "top5_sentences_FLAT = return_top_5_sentences(collection, input_embedding)\n",
    "# End timing query\n",
    "end_time = time.time()\n",
    "\n",
    "print(top5_sentences_FLAT)"
   ]
  },
  {
   "cell_type": "markdown",
   "metadata": {},
   "source": [
    "### HNSW"
   ]
  },
  {
   "cell_type": "code",
   "execution_count": 57,
   "metadata": {},
   "outputs": [],
   "source": [
    "collection.release()\n",
    "collection.drop_index()\n",
    "index_params = {\n",
    "    \"metric_type\": \"L2\",\n",
    "    \"index_type\": \"HNSW\",\n",
    "    \"params\": {\"M\": 128, \"efConstruction\": 128},\n",
    "    \"index_name\": \"embedding_index\"\n",
    "}\n",
    "collection.create_index(field_name=\"embedding\", index_params=index_params)\n",
    "collection.load()"
   ]
  },
  {
   "cell_type": "code",
   "execution_count": 58,
   "metadata": {},
   "outputs": [
    {
     "name": "stdout",
     "output_type": "stream",
     "text": [
      "(['Marvell: 5.', 'hinge: 15b.', 'BlaBlaCar: (xi) &nbsp.', 'BlaBlaCar: (vii) &nbsp.', 'BlaBlaCar: (vii) &nbsp.'], ['BlaBlaCar_TermsandConditions.txt', 'Marvell_TermsofUse.txt', 'hinge_Terms.txt'], [148.83514404296875, 150.18243408203125, 151.6111602783203, 152.77243041992188, 152.77243041992188], 0.5055379867553711)\n"
     ]
    }
   ],
   "source": [
    "# Chat with model\n",
    "input_text = input()\n",
    "# Get embedding of input\n",
    "input_embedding = get_mixedbread_of_query(embedding_model, input_text)\n",
    "\n",
    "# Start timing query\n",
    "start_time = time.time()\n",
    "# Top5 sentences\n",
    "top5_sentences_HNSW = return_top_5_sentences(collection, input_embedding)\n",
    "# End timing query\n",
    "end_time = time.time()\n",
    "\n",
    "print(top5_sentences_HNSW)"
   ]
  },
  {
   "cell_type": "markdown",
   "metadata": {},
   "source": [
    "### IVF_SQ8"
   ]
  },
  {
   "cell_type": "code",
   "execution_count": 59,
   "metadata": {},
   "outputs": [],
   "source": [
    "collection.release()\n",
    "collection.drop_index()\n",
    "index_params = {\n",
    "    \"metric_type\": \"L2\",\n",
    "    \"index_type\": \"IVF_SQ8\",\n",
    "    \"params\": {\"nlist\": 128},\n",
    "    \"index_name\": \"embedding_index\"\n",
    "}\n",
    "collection.create_index(field_name=\"embedding\", index_params=index_params)\n",
    "collection.load()"
   ]
  },
  {
   "cell_type": "code",
   "execution_count": 60,
   "metadata": {},
   "outputs": [
    {
     "name": "stdout",
     "output_type": "stream",
     "text": [
      "(['Marvell: 5.', 'hinge: 15b.', 'BlaBlaCar: (xi) &nbsp.', 'InternetArchive: background: #333.\\n}', 'InternetArchive: background: #333.\\n}'], ['BlaBlaCar_TermsandConditions.txt', 'InternetArchive_Terms.txt', 'Marvell_TermsofUse.txt', 'hinge_Terms.txt'], [148.94642639160156, 150.19046020507812, 151.5994873046875, 151.87091064453125, 151.87091064453125], 0.5237791538238525)\n"
     ]
    }
   ],
   "source": [
    "# Chat with model\n",
    "input_text = input()\n",
    "# Get embedding of input\n",
    "input_embedding = get_mixedbread_of_query(embedding_model, input_text)\n",
    "\n",
    "# Start timing query\n",
    "start_time = time.time()\n",
    "# Top5 sentences\n",
    "top5_sentences_IVF_SQ8 = return_top_5_sentences(collection, input_embedding)\n",
    "# End timing query\n",
    "end_time = time.time()\n",
    "\n",
    "print(top5_sentences_IVF_SQ8)"
   ]
  },
  {
   "cell_type": "markdown",
   "metadata": {},
   "source": [
    "### SCANN"
   ]
  },
  {
   "cell_type": "code",
   "execution_count": 61,
   "metadata": {},
   "outputs": [],
   "source": [
    "collection.release()\n",
    "collection.drop_index()\n",
    "index_params = {\n",
    "    \"metric_type\": \"L2\",\n",
    "    \"index_type\": \"SCANN\",\n",
    "    \"params\": {\"nlist\": 128},\n",
    "    \"index_name\": \"embedding_index\"\n",
    "}\n",
    "collection.create_index(field_name=\"embedding\", index_params=index_params)\n",
    "collection.load()"
   ]
  },
  {
   "cell_type": "code",
   "execution_count": 62,
   "metadata": {},
   "outputs": [
    {
     "name": "stdout",
     "output_type": "stream",
     "text": [
      "(['Marvell: 5.', 'hinge: 15b.', 'BlaBlaCar: (vii) &nbsp.', 'BlaBlaCar: (vii) &nbsp.', 'BlaBlaCar: (vii) &nbsp.'], ['BlaBlaCar_TermsandConditions.txt', 'Marvell_TermsofUse.txt', 'hinge_Terms.txt'], [148.83514404296875, 150.18243408203125, 152.77243041992188, 152.77243041992188, 152.77243041992188], 0.43584370613098145)\n"
     ]
    }
   ],
   "source": [
    "# Chat with model\n",
    "input_text = input()\n",
    "# Get embedding of input\n",
    "input_embedding = get_mixedbread_of_query(embedding_model, input_text)\n",
    "\n",
    "# Start timing query\n",
    "start_time = time.time()\n",
    "# Top5 sentences\n",
    "top5_sentences_SCANN = return_top_5_sentences(collection, input_embedding)\n",
    "# End timing query\n",
    "end_time = time.time()\n",
    "\n",
    "print(top5_sentences_SCANN)"
   ]
  },
  {
   "cell_type": "markdown",
   "metadata": {},
   "source": [
    "## Visualization"
   ]
  },
  {
   "cell_type": "code",
   "execution_count": 63,
   "metadata": {},
   "outputs": [
    {
     "data": {
      "text/plain": [
       "{'IVF_FLAT': 0.46414875984191895,\n",
       " 'FLAT': 0.7795720100402832,\n",
       " 'HNSW': 0.5055379867553711,\n",
       " 'IVF_SQ8': 0.5237791538238525,\n",
       " 'SCANN': 0.43584370613098145}"
      ]
     },
     "execution_count": 63,
     "metadata": {},
     "output_type": "execute_result"
    }
   ],
   "source": [
    "indexes = ['IVF_FLAT', 'FLAT', 'HNSW', 'IVF_SQ8', 'SCANN']\n",
    "results = [top5_sentences_IVF_FLAT, top5_sentences_FLAT, top5_sentences_HNSW, top5_sentences_IVF_SQ8, top5_sentences_SCANN]\n",
    "query_time = {}\n",
    "distance = {}\n",
    "for i, result in enumerate(results):\n",
    "    query_time[indexes[i]] = result[3]\n",
    "    distance[indexes[i]] = result[2][0]\n",
    "query_time"
   ]
  },
  {
   "cell_type": "code",
   "execution_count": 64,
   "metadata": {},
   "outputs": [
    {
     "data": {
      "image/png": "[encoded data removed]",
      "text/plain": [
       "<Figure size 1000x500 with 2 Axes>"
      ]
     },
     "metadata": {},
     "output_type": "display_data"
    }
   ],
   "source": [
    "indexes = list(query_time.keys())\n",
    "times = list(query_time.values())\n",
    "distances = list(distance.values())\n",
    "\n",
    "fig, (ax1, ax2) = plt.subplots(1, 2, figsize=(10, 5))\n",
    "bars1 = ax1.bar(indexes, times)\n",
    "ax1.set_xlabel('Indexes')\n",
    "ax1.set_ylabel('Query times (s)')\n",
    "for bar, value in zip(bars1, times):\n",
    "    ax1.text(bar.get_x() + bar.get_width() / 2, bar.get_height(), round(value,2), ha='center', va='bottom')\n",
    "\n",
    "bars2 = ax2.bar(indexes, distances)\n",
    "ax2.set_xlabel('Indexes')\n",
    "ax2.set_ylabel('Distances')\n",
    "for bar, value in zip(bars2, distances):\n",
    "    ax2.text(bar.get_x() + bar.get_width() / 2, bar.get_height() + 0.5, round(value,2), ha='center', va='bottom')"
   ]
  },
  {
   "cell_type": "code",
   "execution_count": null,
   "metadata": {},
   "outputs": [],
   "source": []
  }
 ],
 "metadata": {
  "kernelspec": {
   "display_name": "DE",
   "language": "python",
   "name": "python3"
  },
  "language_info": {
   "codemirror_mode": {
    "name": "ipython",
    "version": 3
   },
   "file_extension": ".py",
   "mimetype": "text/x-python",
   "name": "python",
   "nbconvert_exporter": "python",
   "pygments_lexer": "ipython3",
   "version": "3.8.19"
  }
 },
 "nbformat": 4,
 "nbformat_minor": 2
}
