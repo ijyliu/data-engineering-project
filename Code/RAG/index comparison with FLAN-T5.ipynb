{
 "cells": [
  {
   "cell_type": "code",
   "execution_count": 13,
   "metadata": {},
   "outputs": [],
   "source": [
    "from pymilvus import Collection, connections\n",
    "from RAG_Functions import *\n",
    "import time\n",
    "from sentence_transformers import SentenceTransformer\n",
    "from transformers import AutoTokenizer, AutoModelForSeq2SeqLM\n",
    "import matplotlib.pyplot as plt\n",
    "import numpy as np"
   ]
  },
  {
   "cell_type": "markdown",
   "metadata": {},
   "source": [
    "## Load models"
   ]
  },
  {
   "cell_type": "code",
   "execution_count": 14,
   "metadata": {},
   "outputs": [],
   "source": [
    "# embedding model\n",
    "embedding_model = SentenceTransformer(\"mixedbread-ai/mxbai-embed-large-v1\")\n",
    "input_text = \"Does Apple prioritize the protection of user data?\""
   ]
  },
  {
   "cell_type": "markdown",
   "metadata": {},
   "source": [
    "## Connect to Milvus collection "
   ]
  },
  {
   "cell_type": "code",
   "execution_count": 15,
   "metadata": {},
   "outputs": [],
   "source": [
    "connections.connect(host='localhost', port='19530')\n",
    "collection_name = 'text_embeddings'\n",
    "collection = Collection(name=collection_name)"
   ]
  },
  {
   "cell_type": "markdown",
   "metadata": {},
   "source": [
    "## Index comparison"
   ]
  },
  {
   "cell_type": "markdown",
   "metadata": {},
   "source": [
    "### IVF_FLAT"
   ]
  },
  {
   "cell_type": "code",
   "execution_count": 16,
   "metadata": {},
   "outputs": [
    {
     "name": "stdout",
     "output_type": "stream",
     "text": [
      "Timing of creating index:\n",
      "13.20490288734436\n"
     ]
    }
   ],
   "source": [
    "collection.release()\n",
    "collection.drop_index()\n",
    "index_params = {\n",
    "    \"metric_type\": \"L2\",\n",
    "    \"index_type\": \"IVF_FLAT\",\n",
    "    \"params\": {\"nlist\": 128},\n",
    "    \"index_name\": \"embedding_index\"\n",
    "}\n",
    "t0 = time.time()\n",
    "collection.create_index(field_name=\"embedding\", index_params=index_params)\n",
    "print(\"Timing of creating index:\")\n",
    "print(time.time() - t0)\n",
    "collection.load()"
   ]
  },
  {
   "cell_type": "code",
   "execution_count": 17,
   "metadata": {},
   "outputs": [
    {
     "name": "stdout",
     "output_type": "stream",
     "text": [
      "(['iCloud: Apple requires its partners to protect your personal data.', 'iCloud: Protection of Personal Data at Apple At Apple, we believe that great privacy rests on great security.', 'AppleMediaServicesDEPRECATED: APPLE SHALL USE REASONABLE EFFORTS TO PROTECT INFORMATION SUBMITTED BY YOU IN CONNECTION WITH THE SERVICES, BUT YOU AGREE THAT YOUR SUBMISSION OF SUCH INFORMATION IS AT YOUR SOLE RISK, AND YOU HEREBY RELEASE APPLE FROM ANY AND ALL LIABILITY TO YOU FOR ANY LOSS OR LIABILITY RELATING TO SUCH INFORMATION IN ANY WAY.', 'iCloud: For certain sensitive information, Apple uses end-to-end encryption.', 'iCloud: To protect individuals, employees, and Apple and for loss prevention and to prevent fraud, including to protect individuals, employees, and Apple for the benefit of all our users, and prescreening or scanning uploaded content for potentially illegal content, including child sexual exploitation material.'], ['AppleMediaServicesDEPRECATED_AppleMediaServicesTerms.txt', 'iCloud_Privacypolicy.txt', 'iCloud_iCloudsecurityoverview.txt'], [138.43560791015625, 139.1936798095703, 146.54843139648438, 148.30865478515625, 148.9966583251953], 0.30013936495780946)\n"
     ]
    }
   ],
   "source": [
    "# Get embedding of input\n",
    "input_embedding = get_mixedbread_of_query(embedding_model, input_text)\n",
    "\n",
    "# Start timing query\n",
    "start_time = time.time()\n",
    "# Top5 sentences\n",
    "top5_sentences_IVF_FLAT = return_top_n_sentences(collection, input_embedding, repeat=1000)\n",
    "# End timing query\n",
    "end_time = time.time()\n",
    "\n",
    "print(top5_sentences_IVF_FLAT)"
   ]
  },
  {
   "cell_type": "markdown",
   "metadata": {},
   "source": [
    "### FLAT"
   ]
  },
  {
   "cell_type": "code",
   "execution_count": 18,
   "metadata": {},
   "outputs": [
    {
     "name": "stdout",
     "output_type": "stream",
     "text": [
      "Timing of creating index:\n",
      "0.52907395362854\n"
     ]
    }
   ],
   "source": [
    "collection.release()\n",
    "collection.drop_index()\n",
    "index_params = {\n",
    "    \"metric_type\": \"L2\",\n",
    "    \"index_type\": \"FLAT\",\n",
    "    \"index_name\": \"embedding_index\"\n",
    "}\n",
    "t0 = time.time()\n",
    "collection.create_index(field_name=\"embedding\", index_params=index_params)\n",
    "print(\"Timing of creating index:\")\n",
    "print(time.time() - t0)\n",
    "collection.load()"
   ]
  },
  {
   "cell_type": "code",
   "execution_count": 19,
   "metadata": {},
   "outputs": [
    {
     "name": "stdout",
     "output_type": "stream",
     "text": [
      "(['iCloud: Apple requires its partners to protect your personal data.', 'iCloud: Protection of Personal Data at Apple At Apple, we believe that great privacy rests on great security.', 'AppleMediaServicesDEPRECATED: APPLE SHALL USE REASONABLE EFFORTS TO PROTECT INFORMATION SUBMITTED BY YOU IN CONNECTION WITH THE SERVICES, BUT YOU AGREE THAT YOUR SUBMISSION OF SUCH INFORMATION IS AT YOUR SOLE RISK, AND YOU HEREBY RELEASE APPLE FROM ANY AND ALL LIABILITY TO YOU FOR ANY LOSS OR LIABILITY RELATING TO SUCH INFORMATION IN ANY WAY.', 'iCloud: For certain sensitive information, Apple uses end-to-end encryption.', 'iCloud: To protect individuals, employees, and Apple and for loss prevention and to prevent fraud, including to protect individuals, employees, and Apple for the benefit of all our users, and prescreening or scanning uploaded content for potentially illegal content, including child sexual exploitation material.'], ['AppleMediaServicesDEPRECATED_AppleMediaServicesTerms.txt', 'iCloud_Privacypolicy.txt', 'iCloud_iCloudsecurityoverview.txt'], [138.43560791015625, 139.1936798095703, 146.54843139648438, 148.30865478515625, 148.9966583251953], 0.30246510410308836)\n"
     ]
    }
   ],
   "source": [
    "# Get embedding of input\n",
    "input_embedding = get_mixedbread_of_query(embedding_model, input_text)\n",
    "\n",
    "# Start timing query\n",
    "start_time = time.time()\n",
    "# Top5 sentences\n",
    "top5_sentences_FLAT = return_top_n_sentences(collection, input_embedding, repeat=1000)\n",
    "# End timing query\n",
    "end_time = time.time()\n",
    "\n",
    "print(top5_sentences_FLAT)"
   ]
  },
  {
   "cell_type": "markdown",
   "metadata": {},
   "source": [
    "### HNSW"
   ]
  },
  {
   "cell_type": "code",
   "execution_count": 20,
   "metadata": {},
   "outputs": [
    {
     "name": "stdout",
     "output_type": "stream",
     "text": [
      "Timing of creating index:\n",
      "96.11405515670776\n"
     ]
    }
   ],
   "source": [
    "collection.release()\n",
    "collection.drop_index()\n",
    "index_params = {\n",
    "    \"metric_type\": \"L2\",\n",
    "    \"index_type\": \"HNSW\",\n",
    "    \"params\": {\"M\": 128, \"efConstruction\": 128},\n",
    "    \"index_name\": \"embedding_index\"\n",
    "}\n",
    "t0 = time.time()\n",
    "collection.create_index(field_name=\"embedding\", index_params=index_params)\n",
    "print(\"Timing of creating index:\")\n",
    "print(time.time() - t0)\n",
    "collection.load()"
   ]
  },
  {
   "cell_type": "code",
   "execution_count": 21,
   "metadata": {},
   "outputs": [
    {
     "name": "stdout",
     "output_type": "stream",
     "text": [
      "(['iCloud: Apple requires its partners to protect your personal data.', 'iCloud: Protection of Personal Data at Apple At Apple, we believe that great privacy rests on great security.', 'iCloud: For certain sensitive information, Apple uses end-to-end encryption.', 'iCloud: To protect individuals, employees, and Apple and for loss prevention and to prevent fraud, including to protect individuals, employees, and Apple for the benefit of all our users, and prescreening or scanning uploaded content for potentially illegal content, including child sexual exploitation material.', 'iCloud: The personal data Apple collects depends on how you interact with Apple.'], ['iCloud_Privacypolicy.txt', 'iCloud_iCloudsecurityoverview.txt'], [138.43560791015625, 139.1936798095703, 148.30865478515625, 148.9966583251953, 149.31695556640625], 0.2979918169975281)\n"
     ]
    }
   ],
   "source": [
    "# Get embedding of input\n",
    "input_embedding = get_mixedbread_of_query(embedding_model, input_text)\n",
    "\n",
    "# Start timing query\n",
    "start_time = time.time()\n",
    "# Top5 sentences\n",
    "top5_sentences_HNSW = return_top_n_sentences(collection, input_embedding, repeat=1000)\n",
    "# End timing query\n",
    "end_time = time.time()\n",
    "\n",
    "print(top5_sentences_HNSW)"
   ]
  },
  {
   "cell_type": "markdown",
   "metadata": {},
   "source": [
    "### IVF_SQ8"
   ]
  },
  {
   "cell_type": "code",
   "execution_count": 22,
   "metadata": {},
   "outputs": [
    {
     "name": "stdout",
     "output_type": "stream",
     "text": [
      "Timing of creating index:\n",
      "8.681704044342041\n"
     ]
    }
   ],
   "source": [
    "collection.release()\n",
    "collection.drop_index()\n",
    "index_params = {\n",
    "    \"metric_type\": \"L2\",\n",
    "    \"index_type\": \"IVF_SQ8\",\n",
    "    \"params\": {\"nlist\": 128},\n",
    "    \"index_name\": \"embedding_index\"\n",
    "}\n",
    "t0 = time.time()\n",
    "collection.create_index(field_name=\"embedding\", index_params=index_params)\n",
    "print(\"Timing of creating index:\")\n",
    "print(time.time() - t0)\n",
    "collection.load()"
   ]
  },
  {
   "cell_type": "code",
   "execution_count": 23,
   "metadata": {},
   "outputs": [
    {
     "name": "stdout",
     "output_type": "stream",
     "text": [
      "(['iCloud: Apple requires its partners to protect your personal data.', 'iCloud: Protection of Personal Data at Apple At Apple, we believe that great privacy rests on great security.', 'AppleMediaServicesDEPRECATED: APPLE SHALL USE REASONABLE EFFORTS TO PROTECT INFORMATION SUBMITTED BY YOU IN CONNECTION WITH THE SERVICES, BUT YOU AGREE THAT YOUR SUBMISSION OF SUCH INFORMATION IS AT YOUR SOLE RISK, AND YOU HEREBY RELEASE APPLE FROM ANY AND ALL LIABILITY TO YOU FOR ANY LOSS OR LIABILITY RELATING TO SUCH INFORMATION IN ANY WAY.', 'iCloud: For certain sensitive information, Apple uses end-to-end encryption.', 'iCloud: To protect individuals, employees, and Apple and for loss prevention and to prevent fraud, including to protect individuals, employees, and Apple for the benefit of all our users, and prescreening or scanning uploaded content for potentially illegal content, including child sexual exploitation material.'], ['AppleMediaServicesDEPRECATED_AppleMediaServicesTerms.txt', 'iCloud_Privacypolicy.txt', 'iCloud_iCloudsecurityoverview.txt'], [138.5352325439453, 139.2068634033203, 146.48976135253906, 148.13818359375, 148.9981231689453], 0.30151771688461304)\n"
     ]
    }
   ],
   "source": [
    "# Get embedding of input\n",
    "input_embedding = get_mixedbread_of_query(embedding_model, input_text)\n",
    "\n",
    "# Start timing query\n",
    "start_time = time.time()\n",
    "# Top5 sentences\n",
    "top5_sentences_IVF_SQ8 = return_top_n_sentences(collection, input_embedding, repeat=1000)\n",
    "# End timing query\n",
    "end_time = time.time()\n",
    "\n",
    "print(top5_sentences_IVF_SQ8)"
   ]
  },
  {
   "cell_type": "markdown",
   "metadata": {},
   "source": [
    "### SCANN"
   ]
  },
  {
   "cell_type": "code",
   "execution_count": 24,
   "metadata": {},
   "outputs": [
    {
     "name": "stdout",
     "output_type": "stream",
     "text": [
      "Timing of creating index:\n",
      "22.91405200958252\n"
     ]
    }
   ],
   "source": [
    "collection.release()\n",
    "collection.drop_index()\n",
    "index_params = {\n",
    "    \"metric_type\": \"L2\",\n",
    "    \"index_type\": \"SCANN\",\n",
    "    \"params\": {\"nlist\": 128},\n",
    "    \"index_name\": \"embedding_index\"\n",
    "}\n",
    "t0 = time.time()\n",
    "collection.create_index(field_name=\"embedding\", index_params=index_params)\n",
    "print(\"Timing of creating index:\")\n",
    "print(time.time() - t0)\n",
    "collection.load()"
   ]
  },
  {
   "cell_type": "code",
   "execution_count": 25,
   "metadata": {},
   "outputs": [
    {
     "name": "stdout",
     "output_type": "stream",
     "text": [
      "(['iCloud: Apple requires its partners to protect your personal data.', 'iCloud: Protection of Personal Data at Apple At Apple, we believe that great privacy rests on great security.', 'iCloud: For certain sensitive information, Apple uses end-to-end encryption.', 'iCloud: The personal data Apple collects depends on how you interact with Apple.', \"iCloud: That is why Apple has implemented additional processes and protections to help keep children's personal data safe.\"], ['iCloud_Privacypolicy.txt', 'iCloud_iCloudsecurityoverview.txt'], [138.43560791015625, 139.1936798095703, 148.30865478515625, 149.31695556640625, 152.64309692382812], 0.30542942070961)\n"
     ]
    }
   ],
   "source": [
    "# Get embedding of input\n",
    "input_embedding = get_mixedbread_of_query(embedding_model, input_text)\n",
    "\n",
    "# Start timing query\n",
    "start_time = time.time()\n",
    "# Top5 sentences\n",
    "top5_sentences_SCANN = return_top_n_sentences(collection, input_embedding, repeat=1000)\n",
    "# End timing query\n",
    "end_time = time.time()\n",
    "\n",
    "print(top5_sentences_SCANN)"
   ]
  },
  {
   "cell_type": "markdown",
   "metadata": {},
   "source": [
    "## Visualization"
   ]
  },
  {
   "cell_type": "code",
   "execution_count": 37,
   "metadata": {},
   "outputs": [
    {
     "data": {
      "text/plain": [
       "{'IVF_FLAT': 0.30013936495780946,\n",
       " 'FLAT': 0.30246510410308836,\n",
       " 'HNSW': 0.2979918169975281,\n",
       " 'IVF_SQ8': 0.30151771688461304,\n",
       " 'SCANN': 0.30542942070961}"
      ]
     },
     "execution_count": 37,
     "metadata": {},
     "output_type": "execute_result"
    }
   ],
   "source": [
    "indexes = ['IVF_FLAT', 'FLAT', 'HNSW', 'IVF_SQ8', 'SCANN']\n",
    "results = [top5_sentences_IVF_FLAT, top5_sentences_FLAT, top5_sentences_HNSW, top5_sentences_IVF_SQ8, top5_sentences_SCANN]\n",
    "query_time = {}\n",
    "distance = {}\n",
    "for i, result in enumerate(results):\n",
    "    query_time[indexes[i]] = result[3]\n",
    "    distance[indexes[i]] = np.mean(result[2])\n",
    "query_time"
   ]
  },
  {
   "cell_type": "code",
   "execution_count": 43,
   "metadata": {},
   "outputs": [
    {
     "data": {
      "image/png": "[encoded data removed]",
      "text/plain": [
       "<Figure size 1000x500 with 2 Axes>"
      ]
     },
     "metadata": {},
     "output_type": "display_data"
    }
   ],
   "source": [
    "indexes = list(query_time.keys())\n",
    "times = list(query_time.values())\n",
    "distances = list(distance.values())\n",
    "\n",
    "fig, (ax1, ax2) = plt.subplots(1, 2, figsize=(10, 5))\n",
    "bars1 = ax1.bar(indexes, times)\n",
    "ax1.set_ylim(0.28, 0.32)\n",
    "ax1.set_xlabel('Index type')\n",
    "ax1.set_ylabel('Timing (seconds)')\n",
    "ax1.set_title(\"Query timing for each index type\")\n",
    "for bar, value in zip(bars1, times):\n",
    "    ax1.text(bar.get_x() + bar.get_width() / 2, bar.get_height(), round(value,4), ha='center', va='bottom')\n",
    "\n",
    "bars2 = ax2.bar(indexes, distances)\n",
    "ax2.set_ylim(140, 150)\n",
    "ax2.set_xlabel('Index type')\n",
    "ax2.set_ylabel('Distance')\n",
    "ax2.set_title(\"Average distance of top 5 returned sentences\")\n",
    "for bar, value in zip(bars2, distances):\n",
    "    ax2.text(bar.get_x() + bar.get_width() / 2, bar.get_height() + 0.5, round(value,3), ha='center', va='bottom')\n",
    "\n",
    "plt.suptitle('Index Performance Comparison (Single-Vector Similarity Search)')\n",
    "plt.show()"
   ]
  },
  {
   "cell_type": "code",
   "execution_count": null,
   "metadata": {},
   "outputs": [],
   "source": []
  }
 ],
 "metadata": {
  "kernelspec": {
   "display_name": "DE",
   "language": "python",
   "name": "python3"
  },
  "language_info": {
   "codemirror_mode": {
    "name": "ipython",
    "version": 3
   },
   "file_extension": ".py",
   "mimetype": "text/x-python",
   "name": "python",
   "nbconvert_exporter": "python",
   "pygments_lexer": "ipython3",
   "version": "3.8.19"
  }
 },
 "nbformat": 4,
 "nbformat_minor": 2
}
