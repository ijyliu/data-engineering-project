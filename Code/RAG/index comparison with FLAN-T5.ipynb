{
 "cells": [
  {
   "cell_type": "code",
   "execution_count": 1,
   "metadata": {},
   "outputs": [
    {
     "name": "stderr",
     "output_type": "stream",
     "text": [
      "/Users/fyli/CodingTools/anaconda3/envs/DE/lib/python3.8/site-packages/tqdm/auto.py:21: TqdmWarning: IProgress not found. Please update jupyter and ipywidgets. See https://ipywidgets.readthedocs.io/en/stable/user_install.html\n",
      "  from .autonotebook import tqdm as notebook_tqdm\n"
     ]
    }
   ],
   "source": [
    "from pymilvus import Collection, connections\n",
    "from RAG_Functions import *\n",
    "import time\n",
    "from sentence_transformers import SentenceTransformer\n",
    "from transformers import AutoTokenizer, AutoModelForSeq2SeqLM\n",
    "import matplotlib.pyplot as plt\n",
    "import numpy as np"
   ]
  },
  {
   "cell_type": "markdown",
   "metadata": {},
   "source": [
    "## Load models"
   ]
  },
  {
   "cell_type": "code",
   "execution_count": 2,
   "metadata": {},
   "outputs": [],
   "source": [
    "# embedding model\n",
    "embedding_model = SentenceTransformer(\"mixedbread-ai/mxbai-embed-large-v1\")\n",
    "input_text = \"Does Apple prioritize the protection of user data?\""
   ]
  },
  {
   "cell_type": "markdown",
   "metadata": {},
   "source": [
    "## Connect to Milvus collection "
   ]
  },
  {
   "cell_type": "code",
   "execution_count": 3,
   "metadata": {},
   "outputs": [],
   "source": [
    "connections.connect(host='localhost', port='19530')\n",
    "collection_name = 'text_embeddings'\n",
    "collection = Collection(name=collection_name)"
   ]
  },
  {
   "cell_type": "markdown",
   "metadata": {},
   "source": [
    "## Index comparison"
   ]
  },
  {
   "cell_type": "markdown",
   "metadata": {},
   "source": [
    "### IVF_FLAT"
   ]
  },
  {
   "cell_type": "code",
   "execution_count": 4,
   "metadata": {},
   "outputs": [
    {
     "name": "stdout",
     "output_type": "stream",
     "text": [
      "Timing of creating index:\n",
      "15.342484951019287\n"
     ]
    }
   ],
   "source": [
    "collection.release()\n",
    "collection.drop_index()\n",
    "index_params = {\n",
    "    \"metric_type\": \"L2\",\n",
    "    \"index_type\": \"IVF_FLAT\",\n",
    "    \"params\": {\"nlist\": 128},\n",
    "    \"index_name\": \"embedding_index\"\n",
    "}\n",
    "t0 = time.time()\n",
    "collection.create_index(field_name=\"embedding\", index_params=index_params)\n",
    "print(\"Timing of creating index:\")\n",
    "print(time.time() - t0)\n",
    "collection.load()"
   ]
  },
  {
   "cell_type": "code",
   "execution_count": 5,
   "metadata": {},
   "outputs": [
    {
     "name": "stdout",
     "output_type": "stream",
     "text": [
      "(['Marvell: 5.', 'hinge: 15b.', 'BlaBlaCar: (xi) &nbsp.', 'InternetArchive: background: #333.\\n}', 'InternetArchive: background: #333.\\n}', 'BlaBlaCar: (vii) &nbsp.', 'BlaBlaCar: (vii) &nbsp.', 'BlaBlaCar: (vii) &nbsp.', 'BlaBlaCar: (vii) &nbsp.', 'EncyclopediaBritannica: Kim&nbsp.', 'PhilipMorrisInternational: for details).', 'BlaBlaCar: (xv) &nbsp.', 'Marvell: 4.&nbsp.', 'Marvell: 2.', 'Marvell: 1.', 'hinge: 15d.', 'Marvell: 7.&nbsp.', 'NationalGeographic: 5.', 'NationalGeographic: 5.', 'BBC: a.', 'BBC: a.', 'BBC: a.', 'BBC: a.', 'BBC: a.', 'BBC: a.', 'BBC: a.', 'BBC: a.', 'BBC: a.', 'BBC: a.', 'BBC: a.', 'BBC: a.', 'WikiHow: A.', 'WikiHow: A.', 'WikiHow: A.', 'WikiHow: A.', 'WikiHow: A.', 'WikiHow: A.', 'Marvell: 2.&nbsp.', 'Marvell: 1.&nbsp.', 'Marvell: 8.&nbsp.', 'BlaBlaCar: (ix) &nbsp.', 'BlaBlaCar: (ix) &nbsp.', 'BlaBlaCar: (ix) &nbsp.', 'BlaBlaCar: (xii) &nbsp.', 'Discovery: NOTE:&nbsp.', 'Parler: ,B.', 'Indeed: This is detailed below.', 'USATODAY: A.', 'USATODAY: A.', 'BlaBlaCar: (iii) &nbsp.', 'BlaBlaCar: (iii) &nbsp.', 'BlaBlaCar: (iii) &nbsp.', 'BlaBlaCar: (iii) &nbsp.', 'BlaBlaCar: (iii) &nbsp.', 'BlaBlaCar: (iii) &nbsp.', 'BlaBlaCar: (iii) &nbsp.', 'Marvell: 3.&nbsp.', 'hinge: 8c.', 'Wikimedia: To read the full terms, scroll down or click here.', 'Wikimedia: To read the full terms, scroll down or click here.', 'SinaWeibo: Section 5.', 'BlaBlaCar: (viii) &nbsp.', 'BlaBlaCar: (viii) &nbsp.', 'BlaBlaCar: (viii) &nbsp.', 'BlaBlaCar: (viii) &nbsp.', 'RT: iv.', 'BlaBlaCar: (xvi) &nbsp.', 'Habbo: (vii)    &nbsp.', 'SinaWeibo: Section 15.', 'BlaBlaCar: (iv) &nbsp.', 'BlaBlaCar: (iv) &nbsp.', 'BlaBlaCar: (iv) &nbsp.', 'BlaBlaCar: (iv) &nbsp.', 'BlaBlaCar: (iv) &nbsp.', 'BlaBlaCar: (iv) &nbsp.', 'Habbo: (iv)     &nbsp.', 'hinge: 15e.', 'BlaBlaCar: 5.', 'BBC: k.\\na.', 'Marvell: &nbsp.', 'Marvell: &nbsp.', 'Marvell: &nbsp.', 'Marvell: &nbsp.', 'Marvell: &nbsp.', 'Marvell: &nbsp.', 'Marvell: &nbsp.', 'Marvell: &nbsp.', 'Marvell: &nbsp.', 'Marvell: &nbsp.', 'AP: 5.', 'Wire: a.', 'Wire: a.', 'Wire: a.', 'hinge: 8b.', 'SCJohnson: de d  poser une plainte appropri  e aupr  s de l   Autorit   de protection des donn  es.', 'BlaBlaCar: (ii) &nbsp.', 'BlaBlaCar: (ii) &nbsp.', 'BlaBlaCar: (ii) &nbsp.', 'BlaBlaCar: (ii) &nbsp.', 'BlaBlaCar: (ii) &nbsp.'], ['Marvell_PrivacyStatement.txt', 'BBC_PrivacyandCookiesPolicy.txt', 'Wire_PrivacyPolicy.txt', 'NationalGeographic_TermsofService.txt', 'PhilipMorrisInternational_PrivacyNotice.txt', 'RT_TermsofUse.txt', 'Habbo_TermsofService.txt', 'Wire_Mergedintodocument262by.txt', 'Indeed_PrivacyPolicy.txt', 'BBC_TermsofUse.txt', 'BlaBlaCar_TermsandConditions.txt', 'Parler_PrivacyPolicy.txt', 'InternetArchive_Terms.txt', 'Wikimedia_TermsofUse.txt', 'USATODAY_PrivacyPolicy.txt', 'WikiHow_PrivacyPolicy.txt', 'Marvell_TermsofUse.txt', 'SinaWeibo_SINATermsofUse.txt', 'SCJohnson_PRIVACYNOTICE.txt', 'AP_PRIVACYPOLICY.txt', 'Wikimedia_PrivacyPolicy.txt', 'NationalGeographic_PrivacyPolicy.txt', 'Discovery_PrivacyPolicy.txt', 'Wire_TermsofUsepersonal.txt', 'EncyclopediaBritannica_PrivacyPolicy.txt', 'hinge_Terms.txt', 'WikiHow_TermsofUse.txt'], [148.83514404296875, 150.18243408203125, 151.6111602783203, 151.72889709472656, 151.72889709472656, 152.77243041992188, 152.77243041992188, 152.77243041992188, 152.77243041992188, 152.8919677734375, 153.6646270751953, 153.8880615234375, 154.21270751953125, 156.3979949951172, 156.52732849121094, 156.810546875, 156.89471435546875, 157.4087371826172, 157.40875244140625, 157.4510498046875, 157.4510498046875, 157.4510498046875, 157.4510498046875, 157.4510498046875, 157.45106506347656, 157.45106506347656, 157.45106506347656, 157.45106506347656, 157.45106506347656, 157.45106506347656, 157.45108032226562, 158.47592163085938, 158.47592163085938, 158.47592163085938, 158.4759979248047, 158.4759979248047, 158.4759979248047, 158.61563110351562, 158.91546630859375, 158.96987915039062, 159.56845092773438, 159.56845092773438, 159.56845092773438, 159.58114624023438, 159.70382690429688, 159.711669921875, 159.9078826904297, 160.0092010498047, 160.0092010498047, 160.04998779296875, 160.04998779296875, 160.04998779296875, 160.04998779296875, 160.04998779296875, 160.04998779296875, 160.04998779296875, 160.36798095703125, 160.72833251953125, 161.06141662597656, 161.06149291992188, 161.14031982421875, 161.35513305664062, 161.35513305664062, 161.35513305664062, 161.35513305664062, 161.3693389892578, 161.53329467773438, 161.84625244140625, 161.91326904296875, 162.48379516601562, 162.48379516601562, 162.48379516601562, 162.48379516601562, 162.48379516601562, 162.48379516601562, 162.79440307617188, 162.8437957763672, 162.90301513671875, 163.00669860839844, 163.13221740722656, 163.13221740722656, 163.13221740722656, 163.13221740722656, 163.13221740722656, 163.13221740722656, 163.13221740722656, 163.13221740722656, 163.13221740722656, 163.13221740722656, 163.17129516601562, 163.54986572265625, 163.54986572265625, 163.54986572265625, 163.69390869140625, 163.79299926757812, 163.83749389648438, 163.83749389648438, 163.83749389648438, 163.83749389648438, 163.83749389648438], 0.365537166595459)\n"
     ]
    }
   ],
   "source": [
    "# Get embedding of input\n",
    "input_embedding = get_mixedbread_of_query(embedding_model, input_text)\n",
    "\n",
    "# Start timing query\n",
    "start_time = time.time()\n",
    "# Top5 sentences\n",
    "top5_sentences_IVF_FLAT = return_top_n_sentences(collection, input_embedding, 100)\n",
    "# End timing query\n",
    "end_time = time.time()\n",
    "\n",
    "print(top5_sentences_IVF_FLAT)"
   ]
  },
  {
   "cell_type": "markdown",
   "metadata": {},
   "source": [
    "### FLAT"
   ]
  },
  {
   "cell_type": "code",
   "execution_count": 6,
   "metadata": {},
   "outputs": [
    {
     "name": "stdout",
     "output_type": "stream",
     "text": [
      "Timing of creating index:\n",
      "0.531386137008667\n"
     ]
    }
   ],
   "source": [
    "collection.release()\n",
    "collection.drop_index()\n",
    "index_params = {\n",
    "    \"metric_type\": \"L2\",\n",
    "    \"index_type\": \"FLAT\",\n",
    "    \"index_name\": \"embedding_index\"\n",
    "}\n",
    "t0 = time.time()\n",
    "collection.create_index(field_name=\"embedding\", index_params=index_params)\n",
    "print(\"Timing of creating index:\")\n",
    "print(time.time() - t0)\n",
    "collection.load()"
   ]
  },
  {
   "cell_type": "code",
   "execution_count": 7,
   "metadata": {},
   "outputs": [
    {
     "name": "stdout",
     "output_type": "stream",
     "text": [
      "(['SCJohnson: T  to slu  ba je v  m bezplatn  .', 'SCJohnson: n  uda oma isikuandmete t    tlemise piiramist (  igus t    tlemise piiramisele).', 'SCJohnson: Na vy    d  n   a v souladu s pravidly   t  t   soukrom   v  m k takov  m informac  m poskytneme p    stup.', 'Marvell: 5.', 'SCJohnson: Teatud olukordades on v  imalik, et SC Johnson peab avalikustama isikuandmeid riigiasutuste seadusliku taotluse alusel, sealhulgas riikliku julgeoleku v  i   iguskaitsealaste n  uete t  itmiseks.', 'hinge: 15b.', 'BlaBlaCar: (xi) &nbsp.', 'InternetArchive: background: #333.\\n}', 'InternetArchive: background: #333.\\n}', 'BlaBlaCar: (vii) &nbsp.', 'BlaBlaCar: (vii) &nbsp.', 'BlaBlaCar: (vii) &nbsp.', 'BlaBlaCar: (vii) &nbsp.', 'EncyclopediaBritannica: Kim&nbsp.', 'PhilipMorrisInternational: for details).', 'BlaBlaCar: (xv) &nbsp.', 'SCJohnson: tehd   valitus asianmukaiselle valvontaviranomaiselle.', 'RT: In certain cases, e.g.', 'Marvell: 4.&nbsp.', 'SCJohnson: prawo do z  o  enia skargi do odpowiednich w  adz ds.', 'PhilipMorrisInternational: e.g.', 'Marvell: 2.', 'Marvell: 1.', 'SCJohnson: W PRZYPADKU WIEKU U  YTKOWNIKA PONI  EJ 16.', 'hinge: 15d.', 'Marvell: 7.&nbsp.', 'SCJohnson: NESHROMA    UJEME OSOBN     DAJE OD OSOBY, O KTER   VE SKUTE  NOSTI V  ME,   E JEJ   V  K JE NI      , NE   JE V  K, KTER   UMO    UJE POSKYTNOUT SOUHLAS KE SHROMA    OV  N   OSOBN  CH   DAJ   A PROV  D  N   AKTIVIT V R  MCI JEJICH ZPRACOV  V  N  .', 'SCJohnson: kui isikuandmete t    tlemine p  hineb n  usolekul,   igus sellisest n  usolekust loobuda.', 'NationalGeographic: 5.', 'NationalGeographic: 5.', 'BBC: a.', 'BBC: a.', 'BBC: a.', 'BBC: a.', 'BBC: a.', 'BBC: a.', 'BBC: a.', 'BBC: a.', 'BBC: a.', 'BBC: a.', 'BBC: a.', 'BBC: a.', 'WikiHow: A.', 'WikiHow: A.', 'WikiHow: A.', 'WikiHow: A.', 'WikiHow: A.', 'WikiHow: A.', 'Marvell: 2.&nbsp.', 'Marvell: 1.&nbsp.', 'Marvell: 8.&nbsp.', 'SCJohnson: esitada teie erilisest olukorrast tulenevatel p  hjustel vastuv  iteid isikuandmete t    tlemisele (  igus esitada vastuv  iteid).', 'BlaBlaCar: (ix) &nbsp.', 'BlaBlaCar: (ix) &nbsp.', 'BlaBlaCar: (ix) &nbsp.', 'BlaBlaCar: (xii) &nbsp.', 'Discovery: NOTE:&nbsp.', 'Parler: ,B.', 'Indeed: This is detailed below.', 'USATODAY: A.', 'USATODAY: A.', 'BlaBlaCar: (iii) &nbsp.', 'BlaBlaCar: (iii) &nbsp.', 'BlaBlaCar: (iii) &nbsp.', 'BlaBlaCar: (iii) &nbsp.', 'BlaBlaCar: (iii) &nbsp.', 'BlaBlaCar: (iii) &nbsp.', 'BlaBlaCar: (iii) &nbsp.', 'Marvell: 3.&nbsp.', 'SCJohnson: R  glement des litiges : conform  ment aux Principes du Bouclier de protection des donn  es, SC Johnson s   engage    r  gler toute plainte concernant votre vie priv  e et la collecte ou l   utilisation faites par nous de vos donn  es personnelles transf  r  es aux   tats-Unis, en vertu du Bouclier de protection des donn  es.', 'SCJohnson: R  glement des litiges : conform  ment aux Principes du Bouclier de protection des donn  es, SC Johnson s   engage    r  gler toute plainte concernant votre vie priv  e et la collecte ou l   utilisation faites par nous de vos donn  es personnelles transf  r  es aux   tats-Unis, en vertu du Bouclier de protection des donn  es.', 'SCJohnson: R  glement des litiges : conform  ment aux Principes du Bouclier de protection des donn  es, SC Johnson s   engage    r  gler toute plainte concernant votre vie priv  e et la collecte ou l   utilisation faites par nous de vos donn  es personnelles transf  r  es aux   tats-Unis, en vertu du Bouclier de protection des donn  es.', 'SCJohnson: R  glement des litiges : conform  ment aux Principes du Bouclier de protection des donn  es, SC Johnson s   engage    r  gler toute plainte concernant votre vie priv  e et la collecte ou l   utilisation faites par nous de vos donn  es personnelles transf  r  es aux   tats-Unis, en vertu du Bouclier de protection des donn  es.', 'hinge: 8c.', 'Wikimedia: To read the full terms, scroll down or click here.', 'Wikimedia: To read the full terms, scroll down or click here.', 'SinaWeibo: Section 5.', 'SCJohnson: L  DZAM IEV  ROT, KA M  SU ES/EEZ T  MEK  A VIETNES NAV PAREDZ  TAS B  RNIEM, KURI NAV SASNIEGU  I 16 GADU VECUMU VAI ES/EEZ DAL  BVALST   NOTEIKTO MINIM  LO VECUMU, NO KURA B  RNI DR  KST PATST  V  GI IZMANTOT GLOB  LO T  MEKLI.', 'BlaBlaCar: (viii) &nbsp.', 'BlaBlaCar: (viii) &nbsp.', 'BlaBlaCar: (viii) &nbsp.', 'BlaBlaCar: (viii) &nbsp.', 'RT: iv.', 'BlaBlaCar: (xvi) &nbsp.', 'SCJohnson: n  uda SC Johnsonilt teatavatel juhtudel isikuandmete kustutamist, ning kui andmed on tehtud avalikkusele k  ttesaadavaks, v  tta m  istlikke meetmeid teavitamaks vastutavaid t    tlejaid sellest, et nad t    tlevad andmeid, mille linkide, koopiate v  i replikatsioonide kustutamist olete taotlenud (  igus kustutamisele).', 'Habbo: (vii)    &nbsp.', 'SinaWeibo: Section 15.', 'SCJohnson: Teie isikuandmete t    tlemine v  ib l  htuda ka meie muudest   igustatud huvidest, mida on kirjeldatud k  esolevas privaatsusteatises.', 'InternetArchive: background: #222.\\nborder-bottom: 1px solid #333.\\n}', 'BlaBlaCar: (iv) &nbsp.', 'BlaBlaCar: (iv) &nbsp.', 'BlaBlaCar: (iv) &nbsp.', 'BlaBlaCar: (iv) &nbsp.', 'BlaBlaCar: (iv) &nbsp.', 'BlaBlaCar: (iv) &nbsp.', 'Habbo: (iv)     &nbsp.', 'hinge: 15e.', 'BlaBlaCar: 5.', 'BBC: k.\\na.', 'Marvell: &nbsp.'], ['RT_RTprivacypolicy.txt', 'Marvell_PrivacyStatement.txt', 'BBC_PrivacyandCookiesPolicy.txt', 'NationalGeographic_TermsofService.txt', 'PhilipMorrisInternational_PrivacyNotice.txt', 'RT_TermsofUse.txt', 'Habbo_TermsofService.txt', 'Indeed_PrivacyPolicy.txt', 'BBC_TermsofUse.txt', 'BlaBlaCar_TermsandConditions.txt', 'Parler_PrivacyPolicy.txt', 'InternetArchive_Terms.txt', 'Wikimedia_TermsofUse.txt', 'USATODAY_PrivacyPolicy.txt', 'WikiHow_PrivacyPolicy.txt', 'Marvell_TermsofUse.txt', 'SinaWeibo_SINATermsofUse.txt', 'SCJohnson_PRIVACYNOTICE.txt', 'PhilipMorrisInternational_CookieNotice.txt', 'Wikimedia_PrivacyPolicy.txt', 'NationalGeographic_PrivacyPolicy.txt', 'Discovery_PrivacyPolicy.txt', 'EncyclopediaBritannica_PrivacyPolicy.txt', 'hinge_Terms.txt', 'WikiHow_TermsofUse.txt'], [143.45860290527344, 147.57640075683594, 148.59974670410156, 148.83514404296875, 149.06329345703125, 150.18243408203125, 151.6111602783203, 151.72889709472656, 151.72889709472656, 152.77243041992188, 152.77243041992188, 152.77243041992188, 152.77243041992188, 152.8919677734375, 153.6646270751953, 153.8880615234375, 154.0099639892578, 154.04293823242188, 154.21270751953125, 156.10848999023438, 156.36904907226562, 156.3979949951172, 156.52732849121094, 156.74224853515625, 156.810546875, 156.89471435546875, 157.3602294921875, 157.404296875, 157.4087371826172, 157.40875244140625, 157.4510498046875, 157.4510498046875, 157.4510498046875, 157.4510498046875, 157.4510498046875, 157.45106506347656, 157.45106506347656, 157.45106506347656, 157.45106506347656, 157.45106506347656, 157.45106506347656, 157.45108032226562, 158.47592163085938, 158.47592163085938, 158.47592163085938, 158.4759979248047, 158.4759979248047, 158.4759979248047, 158.61563110351562, 158.91546630859375, 158.96987915039062, 159.42877197265625, 159.56845092773438, 159.56845092773438, 159.56845092773438, 159.58114624023438, 159.70382690429688, 159.711669921875, 159.9078826904297, 160.0092010498047, 160.0092010498047, 160.04998779296875, 160.04998779296875, 160.04998779296875, 160.04998779296875, 160.04998779296875, 160.04998779296875, 160.04998779296875, 160.36798095703125, 160.37326049804688, 160.37326049804688, 160.37326049804688, 160.37326049804688, 160.72833251953125, 161.06141662597656, 161.06149291992188, 161.14031982421875, 161.25167846679688, 161.35513305664062, 161.35513305664062, 161.35513305664062, 161.35513305664062, 161.3693389892578, 161.53329467773438, 161.83267211914062, 161.84625244140625, 161.91326904296875, 162.04356384277344, 162.05032348632812, 162.48379516601562, 162.48379516601562, 162.48379516601562, 162.48379516601562, 162.48379516601562, 162.48379516601562, 162.79440307617188, 162.8437957763672, 162.90301513671875, 163.00669860839844, 163.13221740722656], 0.8536992073059082)\n"
     ]
    }
   ],
   "source": [
    "# Get embedding of input\n",
    "input_embedding = get_mixedbread_of_query(embedding_model, input_text)\n",
    "\n",
    "# Start timing query\n",
    "start_time = time.time()\n",
    "# Top5 sentences\n",
    "top5_sentences_FLAT = return_top_n_sentences(collection, input_embedding, 100)\n",
    "# End timing query\n",
    "end_time = time.time()\n",
    "\n",
    "print(top5_sentences_FLAT)"
   ]
  },
  {
   "cell_type": "markdown",
   "metadata": {},
   "source": [
    "### HNSW"
   ]
  },
  {
   "cell_type": "code",
   "execution_count": 8,
   "metadata": {},
   "outputs": [
    {
     "name": "stdout",
     "output_type": "stream",
     "text": [
      "Timing of creating index:\n",
      "89.50472211837769\n"
     ]
    }
   ],
   "source": [
    "collection.release()\n",
    "collection.drop_index()\n",
    "index_params = {\n",
    "    \"metric_type\": \"L2\",\n",
    "    \"index_type\": \"HNSW\",\n",
    "    \"params\": {\"M\": 128, \"efConstruction\": 128},\n",
    "    \"index_name\": \"embedding_index\"\n",
    "}\n",
    "t0 = time.time()\n",
    "collection.create_index(field_name=\"embedding\", index_params=index_params)\n",
    "print(\"Timing of creating index:\")\n",
    "print(time.time() - t0)\n",
    "collection.load()"
   ]
  },
  {
   "cell_type": "code",
   "execution_count": 9,
   "metadata": {},
   "outputs": [
    {
     "name": "stdout",
     "output_type": "stream",
     "text": [
      "(['SCJohnson: T  to slu  ba je v  m bezplatn  .', 'SCJohnson: n  uda oma isikuandmete t    tlemise piiramist (  igus t    tlemise piiramisele).', 'SCJohnson: Na vy    d  n   a v souladu s pravidly   t  t   soukrom   v  m k takov  m informac  m poskytneme p    stup.', 'Marvell: 5.', 'SCJohnson: Teatud olukordades on v  imalik, et SC Johnson peab avalikustama isikuandmeid riigiasutuste seadusliku taotluse alusel, sealhulgas riikliku julgeoleku v  i   iguskaitsealaste n  uete t  itmiseks.', 'hinge: 15b.', 'BlaBlaCar: (xi) &nbsp.', 'BlaBlaCar: (vii) &nbsp.', 'BlaBlaCar: (vii) &nbsp.', 'BlaBlaCar: (vii) &nbsp.', 'BlaBlaCar: (vii) &nbsp.', 'EncyclopediaBritannica: Kim&nbsp.', 'PhilipMorrisInternational: for details).', 'BlaBlaCar: (xv) &nbsp.', 'SCJohnson: tehd   valitus asianmukaiselle valvontaviranomaiselle.', 'RT: In certain cases, e.g.', 'Marvell: 4.&nbsp.', 'SCJohnson: prawo do z  o  enia skargi do odpowiednich w  adz ds.', 'Marvell: 2.', 'Marvell: 1.', 'SCJohnson: W PRZYPADKU WIEKU U  YTKOWNIKA PONI  EJ 16.', 'hinge: 15d.', 'Marvell: 7.&nbsp.', 'SCJohnson: NESHROMA    UJEME OSOBN     DAJE OD OSOBY, O KTER   VE SKUTE  NOSTI V  ME,   E JEJ   V  K JE NI      , NE   JE V  K, KTER   UMO    UJE POSKYTNOUT SOUHLAS KE SHROMA    OV  N   OSOBN  CH   DAJ   A PROV  D  N   AKTIVIT V R  MCI JEJICH ZPRACOV  V  N  .', 'SCJohnson: kui isikuandmete t    tlemine p  hineb n  usolekul,   igus sellisest n  usolekust loobuda.', 'NationalGeographic: 5.', 'NationalGeographic: 5.', 'BBC: a.', 'BBC: a.', 'BBC: a.', 'BBC: a.', 'BBC: a.', 'BBC: a.', 'BBC: a.', 'WikiHow: A.', 'WikiHow: A.', 'WikiHow: A.', 'Marvell: 2.&nbsp.', 'Marvell: 1.&nbsp.', 'Marvell: 8.&nbsp.', 'SCJohnson: esitada teie erilisest olukorrast tulenevatel p  hjustel vastuv  iteid isikuandmete t    tlemisele (  igus esitada vastuv  iteid).', 'BlaBlaCar: (ix) &nbsp.', 'BlaBlaCar: (ix) &nbsp.', 'BlaBlaCar: (ix) &nbsp.', 'BlaBlaCar: (xii) &nbsp.', 'Parler: ,B.', 'Indeed: This is detailed below.', 'BlaBlaCar: (iii) &nbsp.', 'BlaBlaCar: (iii) &nbsp.', 'BlaBlaCar: (iii) &nbsp.', 'BlaBlaCar: (iii) &nbsp.', 'BlaBlaCar: (iii) &nbsp.', 'BlaBlaCar: (iii) &nbsp.', 'BlaBlaCar: (iii) &nbsp.', 'Marvell: 3.&nbsp.', 'SCJohnson: R  glement des litiges : conform  ment aux Principes du Bouclier de protection des donn  es, SC Johnson s   engage    r  gler toute plainte concernant votre vie priv  e et la collecte ou l   utilisation faites par nous de vos donn  es personnelles transf  r  es aux   tats-Unis, en vertu du Bouclier de protection des donn  es.', 'SCJohnson: R  glement des litiges : conform  ment aux Principes du Bouclier de protection des donn  es, SC Johnson s   engage    r  gler toute plainte concernant votre vie priv  e et la collecte ou l   utilisation faites par nous de vos donn  es personnelles transf  r  es aux   tats-Unis, en vertu du Bouclier de protection des donn  es.', 'SCJohnson: R  glement des litiges : conform  ment aux Principes du Bouclier de protection des donn  es, SC Johnson s   engage    r  gler toute plainte concernant votre vie priv  e et la collecte ou l   utilisation faites par nous de vos donn  es personnelles transf  r  es aux   tats-Unis, en vertu du Bouclier de protection des donn  es.', 'hinge: 8c.', 'Wikimedia: To read the full terms, scroll down or click here.', 'SinaWeibo: Section 5.', 'SCJohnson: L  DZAM IEV  ROT, KA M  SU ES/EEZ T  MEK  A VIETNES NAV PAREDZ  TAS B  RNIEM, KURI NAV SASNIEGU  I 16 GADU VECUMU VAI ES/EEZ DAL  BVALST   NOTEIKTO MINIM  LO VECUMU, NO KURA B  RNI DR  KST PATST  V  GI IZMANTOT GLOB  LO T  MEKLI.', 'BlaBlaCar: (viii) &nbsp.', 'BlaBlaCar: (viii) &nbsp.', 'BlaBlaCar: (viii) &nbsp.', 'BlaBlaCar: (viii) &nbsp.', 'RT: iv.', 'BlaBlaCar: (xvi) &nbsp.', 'SCJohnson: n  uda SC Johnsonilt teatavatel juhtudel isikuandmete kustutamist, ning kui andmed on tehtud avalikkusele k  ttesaadavaks, v  tta m  istlikke meetmeid teavitamaks vastutavaid t    tlejaid sellest, et nad t    tlevad andmeid, mille linkide, koopiate v  i replikatsioonide kustutamist olete taotlenud (  igus kustutamisele).', 'Habbo: (vii)    &nbsp.', 'SinaWeibo: Section 15.', 'SCJohnson: Teie isikuandmete t    tlemine v  ib l  htuda ka meie muudest   igustatud huvidest, mida on kirjeldatud k  esolevas privaatsusteatises.', 'BlaBlaCar: (iv) &nbsp.', 'BlaBlaCar: (iv) &nbsp.', 'BlaBlaCar: (iv) &nbsp.', 'BlaBlaCar: (iv) &nbsp.', 'BlaBlaCar: (iv) &nbsp.', 'BlaBlaCar: (iv) &nbsp.', 'Habbo: (iv)     &nbsp.', 'hinge: 15e.', 'BlaBlaCar: 5.', 'BBC: k.\\na.', 'Marvell: &nbsp.', 'Marvell: &nbsp.', 'Marvell: &nbsp.', 'Marvell: &nbsp.', 'Marvell: &nbsp.', 'Marvell: &nbsp.', 'Marvell: &nbsp.', 'Marvell: &nbsp.', 'Marvell: &nbsp.', 'Marvell: &nbsp.', 'SCJohnson: Astfel cum s-a specificat anterior   n aceast   Declara  ie de confiden  ialitate, dat fiind c   suntem o societate interna  ional  , informa  iile dvs.', 'SCJohnson: Astfel cum s-a specificat anterior   n aceast   Declara  ie de confiden  ialitate, dat fiind c   suntem o societate interna  ional  , informa  iile dvs.', 'AP: 5.', 'SCJohnson: KUI OLETE NOOREM KUI 16-AASTANE V  I ALLA TEIE RIIGIS KEHTESTATUD DIGITAALSE N  USOLEKU VANUSEPIIRI,   RGE MINGEID ANDMEID ESITAGE.', 'SCJohnson: Ak po  iadate o odstr  nenie   dajov, odpovieme v primeranom   asovom r  mci.', 'Wire: a.', 'hinge: 8b.', 'SCJohnson: Nagu eelnevalt k  esolevas privaatsusteatises kirjeldasime, on meie rahvusvahelisest majandustegevusest tulenevalt v  imalik, et teie andmed edastatakse t    tlemiseks v  lisriiki, sh Ameerika   hendriikidesse.'], ['RT_RTprivacypolicy.txt', 'Marvell_PrivacyStatement.txt', 'NationalGeographic_TermsofService.txt', 'PhilipMorrisInternational_PrivacyNotice.txt', 'RT_TermsofUse.txt', 'Habbo_TermsofService.txt', 'Indeed_PrivacyPolicy.txt', 'BBC_TermsofUse.txt', 'BlaBlaCar_TermsandConditions.txt', 'Parler_PrivacyPolicy.txt', 'Marvell_TermsofUse.txt', 'SinaWeibo_SINATermsofUse.txt', 'SCJohnson_PRIVACYNOTICE.txt', 'AP_PRIVACYPOLICY.txt', 'Wikimedia_PrivacyPolicy.txt', 'NationalGeographic_PrivacyPolicy.txt', 'Wire_TermsofUsepersonal.txt', 'EncyclopediaBritannica_PrivacyPolicy.txt', 'hinge_Terms.txt', 'WikiHow_TermsofUse.txt'], [143.45860290527344, 147.57640075683594, 148.59974670410156, 148.83514404296875, 149.06329345703125, 150.18243408203125, 151.6111602783203, 152.77243041992188, 152.77243041992188, 152.77243041992188, 152.77243041992188, 152.8919677734375, 153.6646270751953, 153.8880615234375, 154.0099639892578, 154.04293823242188, 154.21270751953125, 156.10848999023438, 156.3979949951172, 156.52732849121094, 156.74224853515625, 156.810546875, 156.89471435546875, 157.3602294921875, 157.404296875, 157.4087371826172, 157.40875244140625, 157.45106506347656, 157.45106506347656, 157.45106506347656, 157.45106506347656, 157.45106506347656, 157.45106506347656, 157.45108032226562, 158.4759979248047, 158.4759979248047, 158.4759979248047, 158.61563110351562, 158.91546630859375, 158.96987915039062, 159.42877197265625, 159.56845092773438, 159.56845092773438, 159.56845092773438, 159.58114624023438, 159.711669921875, 159.9078826904297, 160.04998779296875, 160.04998779296875, 160.04998779296875, 160.04998779296875, 160.04998779296875, 160.04998779296875, 160.04998779296875, 160.36798095703125, 160.37326049804688, 160.37326049804688, 160.37326049804688, 160.72833251953125, 161.06149291992188, 161.14031982421875, 161.25167846679688, 161.35513305664062, 161.35513305664062, 161.35513305664062, 161.35513305664062, 161.3693389892578, 161.53329467773438, 161.83267211914062, 161.84625244140625, 161.91326904296875, 162.04356384277344, 162.48379516601562, 162.48379516601562, 162.48379516601562, 162.48379516601562, 162.48379516601562, 162.48379516601562, 162.79440307617188, 162.8437957763672, 162.90301513671875, 163.00669860839844, 163.13221740722656, 163.13221740722656, 163.13221740722656, 163.13221740722656, 163.13221740722656, 163.13221740722656, 163.13221740722656, 163.13221740722656, 163.13221740722656, 163.13221740722656, 163.14459228515625, 163.14459228515625, 163.17129516601562, 163.2283935546875, 163.3824920654297, 163.54986572265625, 163.69390869140625, 163.7261199951172], 0.1704866886138916)\n"
     ]
    }
   ],
   "source": [
    "# Get embedding of input\n",
    "input_embedding = get_mixedbread_of_query(embedding_model, input_text)\n",
    "\n",
    "# Start timing query\n",
    "start_time = time.time()\n",
    "# Top5 sentences\n",
    "top5_sentences_HNSW = return_top_n_sentences(collection, input_embedding, 100)\n",
    "# End timing query\n",
    "end_time = time.time()\n",
    "\n",
    "print(top5_sentences_HNSW)"
   ]
  },
  {
   "cell_type": "markdown",
   "metadata": {},
   "source": [
    "### IVF_SQ8"
   ]
  },
  {
   "cell_type": "code",
   "execution_count": 10,
   "metadata": {},
   "outputs": [],
   "source": [
    "collection.release()\n",
    "collection.drop_index()\n",
    "index_params = {\n",
    "    \"metric_type\": \"L2\",\n",
    "    \"index_type\": \"IVF_SQ8\",\n",
    "    \"params\": {\"nlist\": 128},\n",
    "    \"index_name\": \"embedding_index\"\n",
    "}\n",
    "t0 = time.time()\n",
    "collection.create_index(field_name=\"embedding\", index_params=index_params)\n",
    "print(\"Timing of creating index:\")\n",
    "print(time.time() - t0)\n",
    "collection.load()"
   ]
  },
  {
   "cell_type": "code",
   "execution_count": 11,
   "metadata": {},
   "outputs": [
    {
     "name": "stdout",
     "output_type": "stream",
     "text": [
      "(['Marvell: 5.', 'hinge: 15b.', 'BlaBlaCar: (xi) &nbsp.', 'InternetArchive: background: #333.\\n}', 'InternetArchive: background: #333.\\n}', 'BlaBlaCar: (vii) &nbsp.', 'BlaBlaCar: (vii) &nbsp.', 'BlaBlaCar: (vii) &nbsp.', 'BlaBlaCar: (vii) &nbsp.', 'EncyclopediaBritannica: Kim&nbsp.', 'PhilipMorrisInternational: for details).', 'BlaBlaCar: (xv) &nbsp.', 'Marvell: 4.&nbsp.', 'Marvell: 1.', 'Marvell: 2.', 'Marvell: 7.&nbsp.', 'hinge: 15d.', 'BBC: a.', 'BBC: a.', 'BBC: a.', 'BBC: a.', 'BBC: a.', 'NationalGeographic: 5.', 'NationalGeographic: 5.', 'BBC: a.', 'BBC: a.', 'BBC: a.', 'BBC: a.', 'BBC: a.', 'BBC: a.', 'BBC: a.', 'WikiHow: A.', 'WikiHow: A.', 'WikiHow: A.', 'Marvell: 2.&nbsp.', 'WikiHow: A.', 'WikiHow: A.', 'WikiHow: A.', 'Marvell: 1.&nbsp.', 'Marvell: 8.&nbsp.', 'BlaBlaCar: (ix) &nbsp.', 'BlaBlaCar: (ix) &nbsp.', 'BlaBlaCar: (ix) &nbsp.', 'BlaBlaCar: (xii) &nbsp.', 'Parler: ,B.', 'Discovery: NOTE:&nbsp.', 'Indeed: This is detailed below.', 'BlaBlaCar: (iii) &nbsp.', 'BlaBlaCar: (iii) &nbsp.', 'BlaBlaCar: (iii) &nbsp.', 'BlaBlaCar: (iii) &nbsp.', 'BlaBlaCar: (iii) &nbsp.', 'BlaBlaCar: (iii) &nbsp.', 'BlaBlaCar: (iii) &nbsp.', 'USATODAY: A.', 'USATODAY: A.', 'Marvell: 3.&nbsp.', 'hinge: 8c.', 'Wikimedia: To read the full terms, scroll down or click here.', 'SinaWeibo: Section 5.', 'Wikimedia: To read the full terms, scroll down or click here.', 'RT: iv.', 'BlaBlaCar: (viii) &nbsp.', 'BlaBlaCar: (viii) &nbsp.', 'BlaBlaCar: (viii) &nbsp.', 'BlaBlaCar: (viii) &nbsp.', 'BlaBlaCar: (xvi) &nbsp.', 'Habbo: (vii)    &nbsp.', 'SinaWeibo: Section 15.', 'BlaBlaCar: (iv) &nbsp.', 'BlaBlaCar: (iv) &nbsp.', 'BlaBlaCar: (iv) &nbsp.', 'BlaBlaCar: (iv) &nbsp.', 'BlaBlaCar: (iv) &nbsp.', 'BlaBlaCar: (iv) &nbsp.', 'hinge: 15e.', 'Habbo: (iv)     &nbsp.', 'BlaBlaCar: 5.', 'Marvell: &nbsp.', 'Marvell: &nbsp.', 'Marvell: &nbsp.', 'Marvell: &nbsp.', 'Marvell: &nbsp.', 'Marvell: &nbsp.', 'Marvell: &nbsp.', 'Marvell: &nbsp.', 'Marvell: &nbsp.', 'Marvell: &nbsp.', 'BBC: k.\\na.', 'AP: 5.', 'Wire: a.', 'Wire: a.', 'Wire: a.', 'hinge: 8b.', 'BlaBlaCar: (ii) &nbsp.', 'BlaBlaCar: (ii) &nbsp.', 'BlaBlaCar: (ii) &nbsp.', 'BlaBlaCar: (ii) &nbsp.', 'BlaBlaCar: (ii) &nbsp.', 'BlaBlaCar: (ii) &nbsp.'], ['Marvell_PrivacyStatement.txt', 'BBC_PrivacyandCookiesPolicy.txt', 'Wire_PrivacyPolicy.txt', 'NationalGeographic_TermsofService.txt', 'PhilipMorrisInternational_PrivacyNotice.txt', 'RT_TermsofUse.txt', 'Habbo_TermsofService.txt', 'Wire_Mergedintodocument262by.txt', 'Indeed_PrivacyPolicy.txt', 'BBC_TermsofUse.txt', 'BlaBlaCar_TermsandConditions.txt', 'Parler_PrivacyPolicy.txt', 'InternetArchive_Terms.txt', 'Wikimedia_TermsofUse.txt', 'USATODAY_PrivacyPolicy.txt', 'WikiHow_PrivacyPolicy.txt', 'Marvell_TermsofUse.txt', 'SinaWeibo_SINATermsofUse.txt', 'AP_PRIVACYPOLICY.txt', 'Wikimedia_PrivacyPolicy.txt', 'NationalGeographic_PrivacyPolicy.txt', 'Discovery_PrivacyPolicy.txt', 'Wire_TermsofUsepersonal.txt', 'EncyclopediaBritannica_PrivacyPolicy.txt', 'hinge_Terms.txt', 'WikiHow_TermsofUse.txt'], [148.83067321777344, 150.0509490966797, 151.53782653808594, 151.68325805664062, 151.68325805664062, 152.6781005859375, 152.6781005859375, 152.6781005859375, 152.6781005859375, 152.8116455078125, 153.7766571044922, 153.87330627441406, 154.28842163085938, 156.35252380371094, 156.52503967285156, 156.84812927246094, 156.92738342285156, 157.35702514648438, 157.35702514648438, 157.35702514648438, 157.35702514648438, 157.35702514648438, 157.44711303710938, 157.44711303710938, 157.48040771484375, 157.48040771484375, 157.48040771484375, 157.48040771484375, 157.48040771484375, 157.48040771484375, 157.48040771484375, 158.4040069580078, 158.4040069580078, 158.4040069580078, 158.443359375, 158.54913330078125, 158.54913330078125, 158.54913330078125, 159.05616760253906, 159.07960510253906, 159.55906677246094, 159.55906677246094, 159.55906677246094, 159.61068725585938, 159.70138549804688, 159.71688842773438, 159.9229278564453, 160.0752410888672, 160.0752410888672, 160.0752410888672, 160.0752410888672, 160.0752410888672, 160.0752410888672, 160.0752410888672, 160.12754821777344, 160.12754821777344, 160.4202117919922, 160.7158966064453, 161.1173858642578, 161.2386932373047, 161.2548065185547, 161.27955627441406, 161.31158447265625, 161.31158447265625, 161.31158447265625, 161.31158447265625, 161.49630737304688, 161.71771240234375, 161.94091796875, 162.6138458251953, 162.6138458251953, 162.6138458251953, 162.6138458251953, 162.6138458251953, 162.6138458251953, 162.74386596679688, 162.83749389648438, 162.8702850341797, 163.05059814453125, 163.05059814453125, 163.05059814453125, 163.05059814453125, 163.05059814453125, 163.05059814453125, 163.05059814453125, 163.05059814453125, 163.05059814453125, 163.05059814453125, 163.1027069091797, 163.22882080078125, 163.50875854492188, 163.50875854492188, 163.52557373046875, 163.72862243652344, 163.83494567871094, 163.83494567871094, 163.83494567871094, 163.83494567871094, 163.83494567871094, 163.83494567871094], 0.3563418388366699)\n"
     ]
    }
   ],
   "source": [
    "# Get embedding of input\n",
    "input_embedding = get_mixedbread_of_query(embedding_model, input_text)\n",
    "\n",
    "# Start timing query\n",
    "start_time = time.time()\n",
    "# Top5 sentences\n",
    "top5_sentences_IVF_SQ8 = return_top_n_sentences(collection, input_embedding, 100)\n",
    "# End timing query\n",
    "end_time = time.time()\n",
    "\n",
    "print(top5_sentences_IVF_SQ8)"
   ]
  },
  {
   "cell_type": "markdown",
   "metadata": {},
   "source": [
    "### SCANN"
   ]
  },
  {
   "cell_type": "code",
   "execution_count": 12,
   "metadata": {},
   "outputs": [
    {
     "name": "stdout",
     "output_type": "stream",
     "text": [
      "Timing of creating index:\n",
      "30.00226092338562\n"
     ]
    }
   ],
   "source": [
    "collection.release()\n",
    "collection.drop_index()\n",
    "index_params = {\n",
    "    \"metric_type\": \"L2\",\n",
    "    \"index_type\": \"SCANN\",\n",
    "    \"params\": {\"nlist\": 128},\n",
    "    \"index_name\": \"embedding_index\"\n",
    "}\n",
    "t0 = time.time()\n",
    "collection.create_index(field_name=\"embedding\", index_params=index_params)\n",
    "print(\"Timing of creating index:\")\n",
    "print(time.time() - t0)\n",
    "collection.load()"
   ]
  },
  {
   "cell_type": "code",
   "execution_count": 13,
   "metadata": {},
   "outputs": [
    {
     "name": "stdout",
     "output_type": "stream",
     "text": [
      "(['Marvell: 5.', 'hinge: 15b.', 'BlaBlaCar: (xi) &nbsp.', 'InternetArchive: background: #333.\\n}', 'InternetArchive: background: #333.\\n}', 'BlaBlaCar: (vii) &nbsp.', 'BlaBlaCar: (vii) &nbsp.', 'BlaBlaCar: (vii) &nbsp.', 'BlaBlaCar: (vii) &nbsp.', 'PhilipMorrisInternational: for details).', 'BlaBlaCar: (xv) &nbsp.', 'Marvell: 4.&nbsp.', 'Marvell: 2.', 'Marvell: 1.', 'hinge: 15d.', 'Marvell: 7.&nbsp.', 'NationalGeographic: 5.', 'NationalGeographic: 5.', 'BBC: a.', 'BBC: a.', 'BBC: a.', 'BBC: a.', 'BBC: a.', 'BBC: a.', 'BBC: a.', 'BBC: a.', 'BBC: a.', 'BBC: a.', 'BBC: a.', 'BBC: a.', 'WikiHow: A.', 'WikiHow: A.', 'WikiHow: A.', 'WikiHow: A.', 'WikiHow: A.', 'WikiHow: A.', 'Marvell: 2.&nbsp.', 'Marvell: 1.&nbsp.', 'Marvell: 8.&nbsp.', 'BlaBlaCar: (ix) &nbsp.', 'BlaBlaCar: (ix) &nbsp.', 'BlaBlaCar: (ix) &nbsp.', 'BlaBlaCar: (xii) &nbsp.', 'USATODAY: A.', 'USATODAY: A.', 'BlaBlaCar: (iii) &nbsp.', 'BlaBlaCar: (iii) &nbsp.', 'BlaBlaCar: (iii) &nbsp.', 'BlaBlaCar: (iii) &nbsp.', 'BlaBlaCar: (iii) &nbsp.', 'BlaBlaCar: (iii) &nbsp.', 'BlaBlaCar: (iii) &nbsp.', 'Marvell: 3.&nbsp.', 'hinge: 8c.', 'Wikimedia: To read the full terms, scroll down or click here.', 'Wikimedia: To read the full terms, scroll down or click here.', 'SinaWeibo: Section 5.', 'BlaBlaCar: (viii) &nbsp.', 'BlaBlaCar: (viii) &nbsp.', 'BlaBlaCar: (viii) &nbsp.', 'BlaBlaCar: (viii) &nbsp.', 'RT: iv.', 'BlaBlaCar: (xvi) &nbsp.', 'Habbo: (vii)    &nbsp.', 'SinaWeibo: Section 15.', 'BlaBlaCar: (iv) &nbsp.', 'BlaBlaCar: (iv) &nbsp.', 'BlaBlaCar: (iv) &nbsp.', 'BlaBlaCar: (iv) &nbsp.', 'BlaBlaCar: (iv) &nbsp.', 'BlaBlaCar: (iv) &nbsp.', 'Habbo: (iv)     &nbsp.', 'hinge: 15e.', 'BlaBlaCar: 5.', 'BBC: k.\\na.', 'Marvell: &nbsp.', 'Marvell: &nbsp.', 'Marvell: &nbsp.', 'Marvell: &nbsp.', 'Marvell: &nbsp.', 'Marvell: &nbsp.', 'Marvell: &nbsp.', 'Marvell: &nbsp.', 'Marvell: &nbsp.', 'Marvell: &nbsp.', 'AP: 5.', 'hinge: 8b.', 'SCJohnson: de d  poser une plainte appropri  e aupr  s de l   Autorit   de protection des donn  es.', 'BlaBlaCar: (ii) &nbsp.', 'BlaBlaCar: (ii) &nbsp.', 'BlaBlaCar: (ii) &nbsp.', 'BlaBlaCar: (ii) &nbsp.', 'BlaBlaCar: (ii) &nbsp.', 'BlaBlaCar: (ii) &nbsp.', 'BlaBlaCar: (ii) &nbsp.', 'BlaBlaCar: (ii) &nbsp.', 'BlaBlaCar: (ii) &nbsp.', 'BlaBlaCar: 3.15  &nbsp.', 'BlaBlaCar: 2.3.1.', 'hinge: 15a.'], ['Marvell_PrivacyStatement.txt', 'BBC_PrivacyandCookiesPolicy.txt', 'NationalGeographic_TermsofService.txt', 'PhilipMorrisInternational_PrivacyNotice.txt', 'RT_TermsofUse.txt', 'Habbo_TermsofService.txt', 'BBC_TermsofUse.txt', 'BlaBlaCar_TermsandConditions.txt', 'InternetArchive_Terms.txt', 'Wikimedia_TermsofUse.txt', 'USATODAY_PrivacyPolicy.txt', 'WikiHow_PrivacyPolicy.txt', 'Marvell_TermsofUse.txt', 'SinaWeibo_SINATermsofUse.txt', 'SCJohnson_PRIVACYNOTICE.txt', 'AP_PRIVACYPOLICY.txt', 'Wikimedia_PrivacyPolicy.txt', 'NationalGeographic_PrivacyPolicy.txt', 'hinge_Terms.txt', 'BlaBlaCar_PrivacyPolicy.txt', 'WikiHow_TermsofUse.txt'], [148.83514404296875, 150.18243408203125, 151.6111602783203, 151.72889709472656, 151.72889709472656, 152.77243041992188, 152.77243041992188, 152.77243041992188, 152.77243041992188, 153.6646270751953, 153.8880615234375, 154.21270751953125, 156.3979949951172, 156.52732849121094, 156.810546875, 156.89471435546875, 157.4087371826172, 157.40875244140625, 157.4510498046875, 157.4510498046875, 157.4510498046875, 157.4510498046875, 157.4510498046875, 157.45106506347656, 157.45106506347656, 157.45106506347656, 157.45106506347656, 157.45106506347656, 157.45106506347656, 157.45108032226562, 158.47592163085938, 158.47592163085938, 158.47592163085938, 158.4759979248047, 158.4759979248047, 158.4759979248047, 158.61563110351562, 158.91546630859375, 158.96987915039062, 159.56845092773438, 159.56845092773438, 159.56845092773438, 159.58114624023438, 160.0092010498047, 160.0092010498047, 160.04998779296875, 160.04998779296875, 160.04998779296875, 160.04998779296875, 160.04998779296875, 160.04998779296875, 160.04998779296875, 160.36798095703125, 160.72833251953125, 161.06141662597656, 161.06149291992188, 161.14031982421875, 161.35513305664062, 161.35513305664062, 161.35513305664062, 161.35513305664062, 161.3693389892578, 161.53329467773438, 161.84625244140625, 161.91326904296875, 162.48379516601562, 162.48379516601562, 162.48379516601562, 162.48379516601562, 162.48379516601562, 162.48379516601562, 162.79440307617188, 162.8437957763672, 162.90301513671875, 163.00669860839844, 163.13221740722656, 163.13221740722656, 163.13221740722656, 163.13221740722656, 163.13221740722656, 163.13221740722656, 163.13221740722656, 163.13221740722656, 163.13221740722656, 163.13221740722656, 163.17129516601562, 163.69390869140625, 163.79299926757812, 163.83749389648438, 163.83749389648438, 163.83749389648438, 163.83749389648438, 163.83749389648438, 163.83749389648438, 163.83749389648438, 163.83749389648438, 163.83749389648438, 163.91029357910156, 164.00991821289062, 164.92002868652344], 0.3659970760345459)\n"
     ]
    }
   ],
   "source": [
    "# Get embedding of input\n",
    "input_embedding = get_mixedbread_of_query(embedding_model, input_text)\n",
    "\n",
    "# Start timing query\n",
    "start_time = time.time()\n",
    "# Top5 sentences\n",
    "top5_sentences_SCANN = return_top_n_sentences(collection, input_embedding, 100)\n",
    "# End timing query\n",
    "end_time = time.time()\n",
    "\n",
    "print(top5_sentences_SCANN)"
   ]
  },
  {
   "cell_type": "markdown",
   "metadata": {},
   "source": [
    "## Visualization"
   ]
  },
  {
   "cell_type": "code",
   "execution_count": 14,
   "metadata": {},
   "outputs": [
    {
     "data": {
      "text/plain": [
       "{'IVF_FLAT': 0.365537166595459,\n",
       " 'FLAT': 0.8536992073059082,\n",
       " 'HNSW': 0.1704866886138916,\n",
       " 'IVF_SQ8': 0.3563418388366699,\n",
       " 'SCANN': 0.3659970760345459}"
      ]
     },
     "execution_count": 14,
     "metadata": {},
     "output_type": "execute_result"
    }
   ],
   "source": [
    "indexes = ['IVF_FLAT', 'FLAT', 'HNSW', 'IVF_SQ8', 'SCANN']\n",
    "results = [top5_sentences_IVF_FLAT, top5_sentences_FLAT, top5_sentences_HNSW, top5_sentences_IVF_SQ8, top5_sentences_SCANN]\n",
    "query_time = {}\n",
    "distance = {}\n",
    "for i, result in enumerate(results):\n",
    "    query_time[indexes[i]] = result[3]\n",
    "    distance[indexes[i]] = np.mean(result[2])\n",
    "query_time"
   ]
  },
  {
   "cell_type": "code",
   "execution_count": 24,
   "metadata": {},
   "outputs": [
    {
     "data": {
      "image/png": "[encoded data removed]",
      "text/plain": [
       "<Figure size 1000x500 with 2 Axes>"
      ]
     },
     "metadata": {},
     "output_type": "display_data"
    }
   ],
   "source": [
    "indexes = list(query_time.keys())\n",
    "times = list(query_time.values())\n",
    "distances = list(distance.values())\n",
    "\n",
    "fig, (ax1, ax2) = plt.subplots(1, 2, figsize=(10, 5))\n",
    "bars1 = ax1.bar(indexes, times)\n",
    "ax1.set_xlabel('Index type')\n",
    "ax1.set_ylabel('Query time (s)')\n",
    "for bar, value in zip(bars1, times):\n",
    "    ax1.text(bar.get_x() + bar.get_width() / 2, bar.get_height(), round(value,2), ha='center', va='bottom')\n",
    "\n",
    "bars2 = ax2.bar(indexes, distances)\n",
    "ax2.set_ylim(150, 165)\n",
    "ax2.set_xlabel('Index type')\n",
    "ax2.set_ylabel('Average distance')\n",
    "for bar, value in zip(bars2, distances):\n",
    "    ax2.text(bar.get_x() + bar.get_width() / 2, bar.get_height() + 0.5, round(value,2), ha='center', va='bottom')\n",
    "\n",
    "plt.suptitle('Index Comparison')\n",
    "plt.show()"
   ]
  },
  {
   "cell_type": "code",
   "execution_count": null,
   "metadata": {},
   "outputs": [],
   "source": []
  }
 ],
 "metadata": {
  "kernelspec": {
   "display_name": "DE",
   "language": "python",
   "name": "python3"
  },
  "language_info": {
   "codemirror_mode": {
    "name": "ipython",
    "version": 3
   },
   "file_extension": ".py",
   "mimetype": "text/x-python",
   "name": "python",
   "nbconvert_exporter": "python",
   "pygments_lexer": "ipython3",
   "version": "3.8.19"
  }
 },
 "nbformat": 4,
 "nbformat_minor": 2
}
