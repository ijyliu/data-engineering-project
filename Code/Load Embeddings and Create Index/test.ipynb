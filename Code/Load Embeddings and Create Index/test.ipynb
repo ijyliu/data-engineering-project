{
 "cells": [
  {
   "cell_type": "code",
   "execution_count": 8,
   "metadata": {},
   "outputs": [],
   "source": [
    "from pymilvus import Collection, connections, FieldSchema, CollectionSchema, DataType, utility\n",
    "import pandas as pd\n",
    "import numpy as np\n",
    "import os\n",
    "import time"
   ]
  },
  {
   "cell_type": "code",
   "execution_count": 39,
   "metadata": {},
   "outputs": [],
   "source": [
    "# load the existing collection\n",
    "connections.connect(host='localhost', port='19530')\n",
    "\n",
    "collection_name = 'text_embeddings'\n",
    "collection = Collection(name=collection_name)"
   ]
  },
  {
   "cell_type": "markdown",
   "metadata": {},
   "source": [
    "## Query without index"
   ]
  },
  {
   "cell_type": "code",
   "execution_count": null,
   "metadata": {},
   "outputs": [],
   "source": [
    "collection.drop_index()\n",
    "collection.load()"
   ]
  },
  {
   "cell_type": "code",
   "execution_count": 133,
   "metadata": {},
   "outputs": [
    {
     "name": "stdout",
     "output_type": "stream",
     "text": [
      "0.009450912475585938\n"
     ]
    }
   ],
   "source": [
    "expr = f\"company_name == 'TheHersheyCompany'\"\n",
    "t0 = time.time()\n",
    "results = collection.query(expr=expr, output_fields=[\"company_name\"])\n",
    "print(time.time() - t0)"
   ]
  },
  {
   "cell_type": "markdown",
   "metadata": {},
   "source": [
    "## Query with index"
   ]
  },
  {
   "cell_type": "code",
   "execution_count": null,
   "metadata": {},
   "outputs": [],
   "source": [
    "collection.release()\n",
    "index_params = {\n",
    "    \"metric_type\": \"L2\",\n",
    "    \"index_type\": \"IVF_FLAT\",\n",
    "    \"params\": {\"nlist\": 128},\n",
    "    \"index_name\": \"embedding_index\"\n",
    "}\n",
    "collection.create_index(field_name=\"embedding\", index_params=index_params)\n",
    "collection.load()"
   ]
  },
  {
   "cell_type": "code",
   "execution_count": 146,
   "metadata": {},
   "outputs": [
    {
     "name": "stdout",
     "output_type": "stream",
     "text": [
      "0.17076706886291504\n"
     ]
    }
   ],
   "source": [
    "expr = f\"company_name == 'TheHersheyCompany'\"\n",
    "t0 = time.time()\n",
    "query_results = collection.query(expr=expr, output_fields=[\"embedding\"])\n",
    "print(time.time() - t0)"
   ]
  },
  {
   "cell_type": "markdown",
   "metadata": {},
   "source": [
    "## Single vector search "
   ]
  },
  {
   "cell_type": "code",
   "execution_count": 124,
   "metadata": {},
   "outputs": [
    {
     "name": "stdout",
     "output_type": "stream",
     "text": [
      "0.009879827499389648\n",
      "['id: 449090663332412588, distance: 0.0, entity: {}', 'id: 449090663332676917, distance: 1.270500094019411e-10, entity: {}', 'id: 449090663332412878, distance: 113.849853515625, entity: {}']\n"
     ]
    }
   ],
   "source": [
    "# single-vector\n",
    "query_vectors = [query_results[0]['embedding']]\n",
    "t0 = time.time()\n",
    "results = collection.search(data=query_vectors, limit=3, anns_field=\"embedding\", param={\"metric_type\": \"L2\", \"params\": {}})\n",
    "print(time.time() - t0)\n",
    "for result in results:\n",
    "    print(result)"
   ]
  },
  {
   "cell_type": "code",
   "execution_count": 113,
   "metadata": {},
   "outputs": [
    {
     "name": "stdout",
     "output_type": "stream",
     "text": [
      "0.011841058731079102\n",
      "['id: 449090663332412588, distance: 0.0, entity: {}', 'id: 449090663332676917, distance: 1.270500094019411e-10, entity: {}', 'id: 449090663332412878, distance: 113.849853515625, entity: {}']\n",
      "['id: 449090663332412589, distance: 0.0, entity: {}', 'id: 449090663332412590, distance: 0.0, entity: {}', 'id: 449090663332676918, distance: 2.620709482759054e-10, entity: {}']\n"
     ]
    }
   ],
   "source": [
    "# bulk-vector\n",
    "query_vectors = [query_results[0]['embedding'], query_results[1]['embedding']]\n",
    "t0 = time.time()\n",
    "results = collection.search(data=query_vectors, limit=3, anns_field=\"embedding\", param={\"metric_type\": \"L2\", \"params\": {}})\n",
    "print(time.time() - t0)\n",
    "for result in results:\n",
    "    print(result)"
   ]
  },
  {
   "cell_type": "code",
   "execution_count": 159,
   "metadata": {},
   "outputs": [
    {
     "name": "stdout",
     "output_type": "stream",
     "text": [
      "0.006422996520996094\n",
      "['id: 449090663332412589, distance: 0.0, entity: {}', 'id: 449090663332412590, distance: 0.0, entity: {}', 'id: 449090663332676918, distance: 2.620709482759054e-10, entity: {}', 'id: 449090663332676919, distance: 2.620709482759054e-10, entity: {}']\n"
     ]
    }
   ],
   "source": [
    "# range search\n",
    "search_params = {\n",
    "    \"metric_type\": \"L2\",\n",
    "    \"params\": {\n",
    "        \"radius\": 0.8 # Radius of the search circle\n",
    "    }\n",
    "}\n",
    "query_vectors = [query_results[1]['embedding']]\n",
    "t0 = time.time()\n",
    "results = collection.search(data=query_vectors, limit=5, anns_field=\"embedding\", param=search_params)\n",
    "print(time.time() - t0)\n",
    "for result in results:\n",
    "    print(result)"
   ]
  }
 ],
 "metadata": {
  "kernelspec": {
   "display_name": "DE",
   "language": "python",
   "name": "python3"
  },
  "language_info": {
   "codemirror_mode": {
    "name": "ipython",
    "version": 3
   },
   "file_extension": ".py",
   "mimetype": "text/x-python",
   "name": "python",
   "nbconvert_exporter": "python",
   "pygments_lexer": "ipython3",
   "version": "3.8.19"
  }
 },
 "nbformat": 4,
 "nbformat_minor": 2
}
