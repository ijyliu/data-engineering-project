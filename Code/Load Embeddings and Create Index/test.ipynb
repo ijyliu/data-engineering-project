{
 "cells": [
  {
   "cell_type": "code",
   "execution_count": 25,
   "metadata": {},
   "outputs": [],
   "source": [
    "from pymilvus import Collection, connections\n",
    "import pandas as pd\n",
    "import numpy as np\n",
    "import time"
   ]
  },
  {
   "cell_type": "code",
   "execution_count": 26,
   "metadata": {},
   "outputs": [],
   "source": [
    "# load the existing collection\n",
    "connections.connect(host='localhost', port='19530')\n",
    "collection_name = 'text_embeddings'\n",
    "collection = Collection(name=collection_name)"
   ]
  },
  {
   "cell_type": "markdown",
   "metadata": {},
   "source": [
    "## String Query"
   ]
  },
  {
   "cell_type": "code",
   "execution_count": 27,
   "metadata": {},
   "outputs": [],
   "source": [
    "collection.release()\n",
    "collection.drop_index()\n",
    "index_params = {\n",
    "    \"metric_type\": \"L2\",\n",
    "    \"index_type\": \"IVF_FLAT\",\n",
    "    \"params\": {\"nlist\": 128},\n",
    "    \"index_name\": \"embedding_index\"\n",
    "}\n",
    "collection.create_index(field_name=\"embedding\", index_params=index_params)\n",
    "collection.load()"
   ]
  },
  {
   "cell_type": "code",
   "execution_count": 28,
   "metadata": {},
   "outputs": [
    {
     "name": "stdout",
     "output_type": "stream",
     "text": [
      "Query workload:\n",
      "0.0305941104888916 s\n"
     ]
    }
   ],
   "source": [
    "expr = f\"company_name == 'TheHersheyCompany'\"\n",
    "t0 = time.time()\n",
    "query_results = collection.query(expr=expr, output_fields=['company_name', 'document_name'])\n",
    "print(\"Query workload:\")\n",
    "print(time.time() - t0, 's')"
   ]
  },
  {
   "cell_type": "markdown",
   "metadata": {},
   "source": [
    "## Single vector search "
   ]
  },
  {
   "cell_type": "code",
   "execution_count": 29,
   "metadata": {},
   "outputs": [],
   "source": [
    "# generate query vectors\n",
    "from sentence_transformers import SentenceTransformer\n",
    "model = SentenceTransformer(\"mixedbread-ai/mxbai-embed-large-v1\")\n",
    "sentences = [\"Does Apple prioritize the protection of user data?\",\n",
    "             \"Will Apple share non-personal data with third parties?\"]\n",
    "query_vectors = model.encode(sentences)\n",
    "query_vector = [query_vectors[0]]"
   ]
  },
  {
   "cell_type": "code",
   "execution_count": 30,
   "metadata": {},
   "outputs": [
    {
     "name": "stdout",
     "output_type": "stream",
     "text": [
      "Query workload:\n",
      "0.06738924980163574 s\n",
      "Query output:\n",
      "id: 449090663332650857, distance: 137.30517578125, entity: {'company_name': 'iCloud', 'document_name': 'Privacypolicy'}\n",
      "id: 449090663332650848, distance: 147.77349853515625, entity: {'company_name': 'iCloud', 'document_name': 'Privacypolicy'}\n",
      "id: 449090663332650781, distance: 155.76712036132812, entity: {'company_name': 'iCloud', 'document_name': 'Privacypolicy'}\n"
     ]
    }
   ],
   "source": [
    "# single-vector\n",
    "t0 = time.time()\n",
    "results = collection.search(data=query_vector, limit=3, \n",
    "                            anns_field=\"embedding\", param={\"metric_type\": \"L2\", \"params\": {}},\n",
    "                            output_fields=['company_name', 'document_name'])\n",
    "print(\"Query workload:\")\n",
    "print(time.time() - t0, 's')\n",
    "print(\"Query output:\")\n",
    "for result in results[0]:\n",
    "    print(result)"
   ]
  },
  {
   "cell_type": "markdown",
   "metadata": {},
   "source": [
    "## Bulk vector search "
   ]
  },
  {
   "cell_type": "code",
   "execution_count": 31,
   "metadata": {},
   "outputs": [
    {
     "name": "stdout",
     "output_type": "stream",
     "text": [
      "Query workload:\n",
      "0.0232999324798584 s\n",
      "Query output:\n",
      "id: 449090663332650857, distance: 137.30517578125, entity: {'company_name': 'iCloud', 'document_name': 'Privacypolicy'}\n",
      "id: 449090663332650848, distance: 147.77349853515625, entity: {'company_name': 'iCloud', 'document_name': 'Privacypolicy'}\n",
      "id: 449090663332650781, distance: 155.76712036132812, entity: {'company_name': 'iCloud', 'document_name': 'Privacypolicy'}\n"
     ]
    }
   ],
   "source": [
    "# bulk-vector\n",
    "t0 = time.time()\n",
    "results = collection.search(data=query_vectors, limit=3, \n",
    "                            anns_field=\"embedding\", param={\"metric_type\": \"L2\", \"params\": {}},\n",
    "                            output_fields=['company_name', 'document_name'])\n",
    "print(\"Query workload:\")\n",
    "print(time.time() - t0, 's')\n",
    "print(\"Query output:\")\n",
    "for result in results[0]:\n",
    "    print(result)"
   ]
  },
  {
   "cell_type": "markdown",
   "metadata": {},
   "source": [
    "## Range search "
   ]
  },
  {
   "cell_type": "code",
   "execution_count": 32,
   "metadata": {},
   "outputs": [
    {
     "name": "stdout",
     "output_type": "stream",
     "text": [
      "Query workload:\n",
      "0.004111051559448242 s\n",
      "Query output:\n",
      "id: 449090663332650857, distance: 137.30517578125, entity: {'company_name': 'iCloud', 'document_name': 'Privacypolicy'}\n",
      "id: 449090663332650848, distance: 147.77349853515625, entity: {'company_name': 'iCloud', 'document_name': 'Privacypolicy'}\n"
     ]
    }
   ],
   "source": [
    "# range search\n",
    "search_params = {\n",
    "    \"metric_type\": \"L2\",\n",
    "    \"params\": {\n",
    "        \"radius\": 150 # Radius of the search circle\n",
    "    }\n",
    "}\n",
    "t0 = time.time()\n",
    "results = collection.search(data=query_vector, limit=5, \n",
    "                            anns_field=\"embedding\", param=search_params,\n",
    "                            output_fields=['company_name', 'document_name'])\n",
    "print(\"Query workload:\")\n",
    "print(time.time() - t0, 's')\n",
    "print(\"Query output:\")\n",
    "for result in results[0]:\n",
    "    print(result)"
   ]
  }
 ],
 "metadata": {
  "kernelspec": {
   "display_name": "DE",
   "language": "python",
   "name": "python3"
  },
  "language_info": {
   "codemirror_mode": {
    "name": "ipython",
    "version": 3
   },
   "file_extension": ".py",
   "mimetype": "text/x-python",
   "name": "python",
   "nbconvert_exporter": "python",
   "pygments_lexer": "ipython3",
   "version": "3.8.19"
  }
 },
 "nbformat": 4,
 "nbformat_minor": 2
}
