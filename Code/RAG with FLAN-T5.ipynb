{
 "cells": [
  {
   "cell_type": "markdown",
   "metadata": {},
   "source": [
    "# RAG with FLAN-T5"
   ]
  },
  {
   "cell_type": "code",
   "execution_count": 3,
   "metadata": {},
   "outputs": [],
   "source": [
    "# Packages\n",
    "from RAG_Functions import *"
   ]
  },
  {
   "cell_type": "markdown",
   "metadata": {},
   "source": [
    "## Embedding Model"
   ]
  },
  {
   "cell_type": "code",
   "execution_count": 8,
   "metadata": {},
   "outputs": [],
   "source": [
    "# Packages\n",
    "from sentence_transformers import SentenceTransformer"
   ]
  },
  {
   "cell_type": "code",
   "execution_count": 9,
   "metadata": {},
   "outputs": [
    {
     "data": {
      "text/plain": [
       "SentenceTransformer(\n",
       "  (0): Transformer({'max_seq_length': 512, 'do_lower_case': False}) with Transformer model: BertModel \n",
       "  (1): Pooling({'word_embedding_dimension': 1024, 'pooling_mode_cls_token': True, 'pooling_mode_mean_tokens': False, 'pooling_mode_max_tokens': False, 'pooling_mode_mean_sqrt_len_tokens': False, 'pooling_mode_weightedmean_tokens': False, 'pooling_mode_lasttoken': False, 'include_prompt': True})\n",
       ")"
      ]
     },
     "execution_count": 9,
     "metadata": {},
     "output_type": "execute_result"
    }
   ],
   "source": [
    "# embedding model\n",
    "embedding_model = SentenceTransformer(\"mixedbread-ai/mxbai-embed-large-v1\")\n",
    "embedding_model"
   ]
  },
  {
   "cell_type": "markdown",
   "metadata": {},
   "source": [
    "## Chat Model"
   ]
  },
  {
   "cell_type": "code",
   "execution_count": 4,
   "metadata": {},
   "outputs": [
    {
     "name": "stderr",
     "output_type": "stream",
     "text": [
      "c:\\Users\\ijyli\\miniforge3\\envs\\data_engineering_project\\Lib\\site-packages\\tqdm\\auto.py:21: TqdmWarning: IProgress not found. Please update jupyter and ipywidgets. See https://ipywidgets.readthedocs.io/en/stable/user_install.html\n",
      "  from .autonotebook import tqdm as notebook_tqdm\n"
     ]
    }
   ],
   "source": [
    "# Packages\n",
    "from transformers import AutoTokenizer, AutoModelForSeq2SeqLM"
   ]
  },
  {
   "cell_type": "code",
   "execution_count": 5,
   "metadata": {},
   "outputs": [],
   "source": [
    "# Load model directly\n",
    "chat_tokenizer = AutoTokenizer.from_pretrained(\"google/flan-t5-base\")\n",
    "chat_model = AutoModelForSeq2SeqLM.from_pretrained(\"google/flan-t5-base\")"
   ]
  },
  {
   "cell_type": "markdown",
   "metadata": {},
   "source": [
    "## Milvus Connection"
   ]
  },
  {
   "cell_type": "code",
   "execution_count": 6,
   "metadata": {},
   "outputs": [],
   "source": [
    "from pymilvus import Collection, connections\n",
    "connections.connect(host='localhost', port='19530')\n",
    "collection = Collection(\"text_embeddings\")      # Get an existing collection.\n",
    "# index_params = {\n",
    "#     \"metric_type\": \"COSINE\",\n",
    "#     \"index_type\": \"FLAT\"#,\n",
    "#     #\"params\": {\"nlist\": 128}\n",
    "# }\n",
    "# collection.drop_index()\n",
    "# collection.create_index(field_name=\"embedding\", index_params=index_params)\n",
    "# \"metric_type\": \"L2\",\n",
    "#     \"index_type\": \"IVF_FLAT\",\n",
    "#     \"params\": {\"nlist\": 128}\n",
    "collection.load()"
   ]
  },
  {
   "cell_type": "markdown",
   "metadata": {},
   "source": [
    "## Perform Chat"
   ]
  },
  {
   "cell_type": "code",
   "execution_count": 10,
   "metadata": {},
   "outputs": [
    {
     "name": "stdout",
     "output_type": "stream",
     "text": [
      "['[\"id: 449003062417443424, distance: 130.72021484375, entity: {\\'company_name\\': \\'AppleServices\\', \\'sentence\\': \\'AppleServices: Apple also may disclose your information when Apple determines that applicable law requires or permits such disclosure, including exchanging information with other companies and organizations for fraud protection purposes.\\'}\", \"id: 449003062417444595, distance: 130.72021484375, entity: {\\'company_name\\': \\'AppleServices\\', \\'sentence\\': \\'AppleServices: Apple also may disclose your information when Apple determines that applicable law requires or permits such disclosure, including exchanging information with other companies and organizations for fraud protection purposes.\\'}\", \"id: 449003062417444296, distance: 133.6761016845703, entity: {\\'company_name\\': \\'AppleServices\\', \\'sentence\\': \\'AppleServices: Apple shares personal information with companies who provide services such as information processing, extending credit, fulfilling customer orders, delivering products to you, managing and enhancing customer data, providing customer service, assessing your interest in our products and services, and conducting customer research or satisfaction surveys.\\'}\", \"id: 449003062417444222, distance: 134.33767700195312, entity: {\\'company_name\\': \\'AppleServices\\', \\'sentence\\': \\'AppleServices: Apple will use such information to fulfill your requests, provide the relevant product or service, or for anti-fraud purposes.\\'}\", \"id: 449003062417444318, distance: 135.88665771484375, entity: {\\'company_name\\': \\'AppleServices\\', \\'sentence\\': \\'AppleServices: For other personal information we hold, we will provide you with access (including a copy) for any purpose including to request that we correct the data if it is inaccurate or delete the data if Apple is not required to retain it by law or for legitimate business purposes.\\'}\"]']\n",
      "id: 449003062417443424, distance: 130.72021484375, entity: {'company_name': 'AppleServices', 'sentence': 'AppleServices: Apple also may disclose your information when Apple determines that applicable law requires or permits such disclosure, including exchanging information with other companies and organizations for fraud protection purposes.'}\n"
     ]
    }
   ],
   "source": [
    "# Chat with model\n",
    "input_text = input()\n",
    "\n",
    "# Get embedding of input\n",
    "input_embedding = get_mixedbread_of_query(embedding_model, input_text)\n",
    "\n",
    "# Top5 sentences\n",
    "top5_sentences = return_top_5_sentences(collection, input_embedding)\n",
    "\n",
    "print(top5_sentences)"
   ]
  },
  {
   "cell_type": "code",
   "execution_count": null,
   "metadata": {},
   "outputs": [],
   "source": [
    "\n",
    "# Tokenize\n",
    "input_ids = chat_tokenizer(input_text, return_tensors=\"pt\").input_ids\n",
    "\n",
    "outputs = chat_model.generate(input_ids)\n",
    "print(chat_tokenizer.decode(outputs[0]))"
   ]
  }
 ],
 "metadata": {
  "kernelspec": {
   "display_name": "data_engineering_project",
   "language": "python",
   "name": "python3"
  },
  "language_info": {
   "codemirror_mode": {
    "name": "ipython",
    "version": 3
   },
   "file_extension": ".py",
   "mimetype": "text/x-python",
   "name": "python",
   "nbconvert_exporter": "python",
   "pygments_lexer": "ipython3",
   "version": "3.12.2"
  }
 },
 "nbformat": 4,
 "nbformat_minor": 2
}
