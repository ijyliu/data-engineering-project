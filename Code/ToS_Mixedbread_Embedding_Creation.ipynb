{
 "cells": [
  {
   "cell_type": "markdown",
   "metadata": {},
   "source": [
    "# ToS Mixedbread Embedding Creation\n",
    "\n",
    "State-of-the-art sentence embeddings from mixedbread.ai. \n",
    "\n",
    "https://huggingface.co/mixedbread-ai/mxbai-embed-large-v1."
   ]
  },
  {
   "cell_type": "code",
   "execution_count": 1,
   "metadata": {
    "execution": {
     "iopub.execute_input": "2024-04-10T02:33:05.250693Z",
     "iopub.status.busy": "2024-04-10T02:33:05.250260Z",
     "iopub.status.idle": "2024-04-10T02:33:09.903651Z",
     "shell.execute_reply": "2024-04-10T02:33:09.902953Z"
    }
   },
   "outputs": [
    {
     "name": "stderr",
     "output_type": "stream",
     "text": [
      "/scratch/users/ijyliu/conda/envs/scf_general/lib/python3.11/site-packages/tqdm/auto.py:21: TqdmWarning: IProgress not found. Please update jupyter and ipywidgets. See https://ipywidgets.readthedocs.io/en/stable/user_install.html\n",
      "  from .autonotebook import tqdm as notebook_tqdm\n"
     ]
    },
    {
     "name": "stderr",
     "output_type": "stream",
     "text": [
      "/scratch/users/ijyliu/conda/envs/scf_general/lib/python3.11/site-packages/transformers/utils/hub.py:124: FutureWarning: Using `TRANSFORMERS_CACHE` is deprecated and will be removed in v5 of Transformers. Use `HF_HOME` instead.\n",
      "  warnings.warn(\n"
     ]
    },
    {
     "name": "stderr",
     "output_type": "stream",
     "text": [
      "[nltk_data] Downloading package punkt to\n",
      "[nltk_data]     /accounts/grad/ijyliu/nltk_data...\n",
      "[nltk_data]   Package punkt is already up-to-date!\n"
     ]
    }
   ],
   "source": [
    "# Packages\n",
    "from sentence_transformers import SentenceTransformer\n",
    "# NLTK for sentence tokenization\n",
    "import nltk\n",
    "nltk.download('punkt')\n",
    "# Torch to move to GPU\n",
    "import torch\n",
    "import os\n",
    "import pandas as pd\n",
    "import time"
   ]
  },
  {
   "cell_type": "code",
   "execution_count": 2,
   "metadata": {
    "execution": {
     "iopub.execute_input": "2024-04-10T02:33:09.907521Z",
     "iopub.status.busy": "2024-04-10T02:33:09.906780Z",
     "iopub.status.idle": "2024-04-10T02:33:09.910579Z",
     "shell.execute_reply": "2024-04-10T02:33:09.909953Z"
    }
   },
   "outputs": [],
   "source": [
    "# Flag for if this is a sample run or not\n",
    "sample_run = False"
   ]
  },
  {
   "cell_type": "markdown",
   "metadata": {},
   "source": [
    "## Load Model"
   ]
  },
  {
   "cell_type": "code",
   "execution_count": 3,
   "metadata": {
    "execution": {
     "iopub.execute_input": "2024-04-10T02:33:09.913604Z",
     "iopub.status.busy": "2024-04-10T02:33:09.913196Z",
     "iopub.status.idle": "2024-04-10T02:33:14.468243Z",
     "shell.execute_reply": "2024-04-10T02:33:14.467523Z"
    }
   },
   "outputs": [
    {
     "name": "stdout",
     "output_type": "stream",
     "text": [
      "SentenceTransformer(\n",
      "  (0): Transformer({'max_seq_length': 512, 'do_lower_case': False}) with Transformer model: BertModel \n",
      "  (1): Pooling({'word_embedding_dimension': 1024, 'pooling_mode_cls_token': True, 'pooling_mode_mean_tokens': False, 'pooling_mode_max_tokens': False, 'pooling_mode_mean_sqrt_len_tokens': False, 'pooling_mode_weightedmean_tokens': False, 'pooling_mode_lasttoken': False, 'include_prompt': True})\n",
      ")\n",
      "cuda\n"
     ]
    }
   ],
   "source": [
    "model = SentenceTransformer(\"mixedbread-ai/mxbai-embed-large-v1\")\n",
    "# Move to GPU if available\n",
    "device = 'cuda' if torch.cuda.is_available() else 'cpu'\n",
    "model = model.to(device)\n",
    "# Print model\n",
    "print(model)\n",
    "# Print device\n",
    "print(device)"
   ]
  },
  {
   "cell_type": "markdown",
   "metadata": {},
   "source": [
    "## Function to Get Sentences and Embeddings from Doc"
   ]
  },
  {
   "cell_type": "code",
   "execution_count": 4,
   "metadata": {
    "execution": {
     "iopub.execute_input": "2024-04-10T02:33:14.471092Z",
     "iopub.status.busy": "2024-04-10T02:33:14.470700Z",
     "iopub.status.idle": "2024-04-10T02:33:14.476691Z",
     "shell.execute_reply": "2024-04-10T02:33:14.476317Z"
    }
   },
   "outputs": [],
   "source": [
    "def get_doc_sentences_embeddings(filename):\n",
    "    '''\n",
    "    Get sentence embeddings from a document.\n",
    "    '''\n",
    "    # Read file\n",
    "    with open('../Text Data/Terms of Service Corpus/text/' + filename, 'r', encoding='utf-8') as f:\n",
    "        doc = f.read()\n",
    "    # Strip all unicode characters\n",
    "    doc = ''.join([char if ord(char) < 128 else ' ' for char in doc])\n",
    "    # Strip lines that do not contain a period, exclamation point, or question mark, and at least one letter\n",
    "    doc = '\\n'.join([line for line in doc.split('\\n') if ('.' in line or '!' in line or '?' in line) and any([char.isalpha() for char in line])])\n",
    "    #print('number of lines in doc:', len(doc.split('\\n')))\n",
    "    # Parse company name by taking the first part of filename before underscore\n",
    "    company_name = filename.split('_')[0]\n",
    "    # Sentence tokenize the document\n",
    "    sentences = nltk.sent_tokenize(doc)\n",
    "    # Append company name to the beginning of each sentence\n",
    "    sentences = [company_name + ' ' + sentence for sentence in sentences]\n",
    "    # Encode sentences and return\n",
    "    embeddings = model.encode(sentences)\n",
    "    return sentences, embeddings\n",
    "    "
   ]
  },
  {
   "cell_type": "markdown",
   "metadata": {},
   "source": [
    "## Get List of files"
   ]
  },
  {
   "cell_type": "code",
   "execution_count": 5,
   "metadata": {
    "execution": {
     "iopub.execute_input": "2024-04-10T02:33:14.478824Z",
     "iopub.status.busy": "2024-04-10T02:33:14.478570Z",
     "iopub.status.idle": "2024-04-10T02:33:14.484925Z",
     "shell.execute_reply": "2024-04-10T02:33:14.484483Z"
    }
   },
   "outputs": [
    {
     "name": "stdout",
     "output_type": "stream",
     "text": [
      "length of filenames: 9491\n",
      "['FinanceBuzz_DMCA.txt', 'SiteMinder_PrivacyPolicy.txt', 'Nintendo_TermsofUse.txt', 'CommonSenseMedia_TermsofUse.txt', 'TheOmniGroup_SyncServerTermsofService.txt']\n"
     ]
    }
   ],
   "source": [
    "filenames = os.listdir('../Text Data/Terms of Service Corpus/text')\n",
    "print('length of filenames:', len(filenames))\n",
    "print(filenames[:5])"
   ]
  },
  {
   "cell_type": "markdown",
   "metadata": {},
   "source": [
    "## Clear pre-existing folder"
   ]
  },
  {
   "cell_type": "code",
   "execution_count": 6,
   "metadata": {
    "execution": {
     "iopub.execute_input": "2024-04-10T02:33:14.487048Z",
     "iopub.status.busy": "2024-04-10T02:33:14.486806Z",
     "iopub.status.idle": "2024-04-10T02:33:14.490765Z",
     "shell.execute_reply": "2024-04-10T02:33:14.490340Z"
    }
   },
   "outputs": [],
   "source": [
    "# Delete files in '../Text Data Embeddings' directory\n",
    "for file in os.listdir('../Text Data Embeddings'):\n",
    "    os.remove('../Text Data Embeddings/' + file)"
   ]
  },
  {
   "cell_type": "markdown",
   "metadata": {},
   "source": [
    "## Encode Documents and Create Parquet Files"
   ]
  },
  {
   "cell_type": "code",
   "execution_count": 7,
   "metadata": {
    "execution": {
     "iopub.execute_input": "2024-04-10T02:33:14.492677Z",
     "iopub.status.busy": "2024-04-10T02:33:14.492435Z",
     "iopub.status.idle": "2024-04-10T02:33:14.497645Z",
     "shell.execute_reply": "2024-04-10T02:33:14.497124Z"
    }
   },
   "outputs": [],
   "source": [
    "def create_parquet(filename):\n",
    "    '''\n",
    "    Save parquet file of sentences and embeddings for a document.\n",
    "    '''\n",
    "    # Get sentences and embeddings\n",
    "    # Start timer\n",
    "    #start = time.time()\n",
    "    sentences, embeddings = get_doc_sentences_embeddings(filename)\n",
    "    # End timer\n",
    "    #end = time.time()\n",
    "    #print('Time to get embeddings:', end - start)\n",
    "    # New timer\n",
    "    #start = time.time()\n",
    "    # Create dataframe\n",
    "    df = pd.DataFrame()\n",
    "    # Sentences are a column\n",
    "    df['sentence'] = sentences\n",
    "    # Add embeddings array on to the dataframe\n",
    "    df = pd.concat([df, pd.DataFrame(embeddings)], axis=1)\n",
    "    # Set column names\n",
    "    column_names = ['sentence'] + [f'embed_element_{i}' for i in range(embeddings.shape[1])]\n",
    "    df.columns = column_names\n",
    "    # add filename column\n",
    "    df['filename'] = filename # note parquet compression handles this constant value well\n",
    "    # Copy dataframe 40 times to test sharding\n",
    "    #df = pd.concat([df]*40, ignore_index=True)\n",
    "    # If more than 1000 rows, split into 1000 row chunks\n",
    "    if df.shape[0] > 1000:\n",
    "        for i in range(0, df.shape[0], 1000):\n",
    "            df.iloc[i:i+1000].to_parquet('../Text Data Embeddings/' + filename.split('.')[0] + f'_{i // 1000}.parquet')\n",
    "    else:\n",
    "        # Save to parquet\n",
    "        df.to_parquet('../Text Data Embeddings/' + filename.split('.')[0] + '.parquet')\n",
    "    # End timer\n",
    "    #end = time.time()\n",
    "    #print('Time to save parquet:', end - start)"
   ]
  },
  {
   "cell_type": "code",
   "execution_count": 8,
   "metadata": {
    "execution": {
     "iopub.execute_input": "2024-04-10T02:33:14.499641Z",
     "iopub.status.busy": "2024-04-10T02:33:14.499369Z",
     "iopub.status.idle": "2024-04-10T02:33:15.521633Z",
     "shell.execute_reply": "2024-04-10T02:33:15.520976Z"
    }
   },
   "outputs": [
    {
     "name": "stdout",
     "output_type": "stream",
     "text": [
      "number of lines in doc: 34\n"
     ]
    },
    {
     "name": "stdout",
     "output_type": "stream",
     "text": [
      "Time to get embeddings: 0.8928356170654297\n",
      "Time to save parquet: 0.12570738792419434\n"
     ]
    }
   ],
   "source": [
    "# If this is a sample run, run for one filename + the largest file, otherwise, run for all\n",
    "if sample_run:\n",
    "    create_parquet(filenames[0])\n",
    "    #create_parquet('Honeywell_CookieNotice.txt')\n",
    "else:\n",
    "    errored_files = []\n",
    "    for filename in filenames:\n",
    "        try:\n",
    "            create_parquet(filename)\n",
    "        except:\n",
    "            errored_files.append(filename)\n",
    "            continue\n",
    "    # save to disk if errored files\n",
    "    if len(errored_files) > 0:\n",
    "        with open('errored_files.txt', 'w') as f:\n",
    "            for file in errored_files:\n",
    "                f.write(file + '\\n')\n",
    "    else:\n",
    "        print('No errors in creating parquet files.')"
   ]
  },
  {
   "cell_type": "code",
   "execution_count": 9,
   "metadata": {
    "execution": {
     "iopub.execute_input": "2024-04-10T02:33:15.523944Z",
     "iopub.status.busy": "2024-04-10T02:33:15.523685Z",
     "iopub.status.idle": "2024-04-10T02:33:15.638068Z",
     "shell.execute_reply": "2024-04-10T02:33:15.637390Z"
    }
   },
   "outputs": [
    {
     "data": {
      "text/html": [
       "<div>\n",
       "<style scoped>\n",
       "    .dataframe tbody tr th:only-of-type {\n",
       "        vertical-align: middle;\n",
       "    }\n",
       "\n",
       "    .dataframe tbody tr th {\n",
       "        vertical-align: top;\n",
       "    }\n",
       "\n",
       "    .dataframe thead th {\n",
       "        text-align: right;\n",
       "    }\n",
       "</style>\n",
       "<table border=\"1\" class=\"dataframe\">\n",
       "  <thead>\n",
       "    <tr style=\"text-align: right;\">\n",
       "      <th></th>\n",
       "      <th>sentence</th>\n",
       "      <th>embed_element_0</th>\n",
       "      <th>embed_element_1</th>\n",
       "      <th>embed_element_2</th>\n",
       "      <th>embed_element_3</th>\n",
       "      <th>embed_element_4</th>\n",
       "      <th>embed_element_5</th>\n",
       "      <th>embed_element_6</th>\n",
       "      <th>embed_element_7</th>\n",
       "      <th>embed_element_8</th>\n",
       "      <th>...</th>\n",
       "      <th>embed_element_1015</th>\n",
       "      <th>embed_element_1016</th>\n",
       "      <th>embed_element_1017</th>\n",
       "      <th>embed_element_1018</th>\n",
       "      <th>embed_element_1019</th>\n",
       "      <th>embed_element_1020</th>\n",
       "      <th>embed_element_1021</th>\n",
       "      <th>embed_element_1022</th>\n",
       "      <th>embed_element_1023</th>\n",
       "      <th>filename</th>\n",
       "    </tr>\n",
       "  </thead>\n",
       "  <tbody>\n",
       "    <tr>\n",
       "      <th>0</th>\n",
       "      <td>FinanceBuzz THIS NOTICE IS SUBJECT TO MODIFICA...</td>\n",
       "      <td>-0.129559</td>\n",
       "      <td>-0.358322</td>\n",
       "      <td>-0.432857</td>\n",
       "      <td>0.330654</td>\n",
       "      <td>-0.167946</td>\n",
       "      <td>-0.095894</td>\n",
       "      <td>0.059403</td>\n",
       "      <td>-0.297004</td>\n",
       "      <td>0.261421</td>\n",
       "      <td>...</td>\n",
       "      <td>-0.638149</td>\n",
       "      <td>0.160865</td>\n",
       "      <td>0.050397</td>\n",
       "      <td>0.275447</td>\n",
       "      <td>-0.004016</td>\n",
       "      <td>0.165371</td>\n",
       "      <td>0.137700</td>\n",
       "      <td>0.019452</td>\n",
       "      <td>0.134917</td>\n",
       "      <td>FinanceBuzz_DMCA.txt</td>\n",
       "    </tr>\n",
       "    <tr>\n",
       "      <th>1</th>\n",
       "      <td>FinanceBuzz YOU MUST CHECK BACK FREQUENTLY TO ...</td>\n",
       "      <td>0.178183</td>\n",
       "      <td>-0.409948</td>\n",
       "      <td>0.018674</td>\n",
       "      <td>0.550421</td>\n",
       "      <td>-0.163982</td>\n",
       "      <td>-0.064010</td>\n",
       "      <td>0.706781</td>\n",
       "      <td>-0.518907</td>\n",
       "      <td>0.975128</td>\n",
       "      <td>...</td>\n",
       "      <td>-0.026903</td>\n",
       "      <td>-0.362144</td>\n",
       "      <td>-0.642567</td>\n",
       "      <td>0.396593</td>\n",
       "      <td>0.658277</td>\n",
       "      <td>0.790721</td>\n",
       "      <td>0.183814</td>\n",
       "      <td>0.522085</td>\n",
       "      <td>0.370805</td>\n",
       "      <td>FinanceBuzz_DMCA.txt</td>\n",
       "    </tr>\n",
       "    <tr>\n",
       "      <th>2</th>\n",
       "      <td>FinanceBuzz It is our policy to respond to not...</td>\n",
       "      <td>-0.843620</td>\n",
       "      <td>-0.220504</td>\n",
       "      <td>-0.119484</td>\n",
       "      <td>0.311968</td>\n",
       "      <td>0.344784</td>\n",
       "      <td>0.439013</td>\n",
       "      <td>-0.044417</td>\n",
       "      <td>-0.821258</td>\n",
       "      <td>0.706464</td>\n",
       "      <td>...</td>\n",
       "      <td>-0.425300</td>\n",
       "      <td>-0.053282</td>\n",
       "      <td>0.580609</td>\n",
       "      <td>0.412872</td>\n",
       "      <td>0.322933</td>\n",
       "      <td>-0.003960</td>\n",
       "      <td>-0.150190</td>\n",
       "      <td>-0.197769</td>\n",
       "      <td>0.598518</td>\n",
       "      <td>FinanceBuzz_DMCA.txt</td>\n",
       "    </tr>\n",
       "    <tr>\n",
       "      <th>3</th>\n",
       "      <td>FinanceBuzz Responses may include removing or ...</td>\n",
       "      <td>-0.154740</td>\n",
       "      <td>-0.253713</td>\n",
       "      <td>0.231295</td>\n",
       "      <td>0.663021</td>\n",
       "      <td>0.446653</td>\n",
       "      <td>-0.131465</td>\n",
       "      <td>-0.257986</td>\n",
       "      <td>-0.186931</td>\n",
       "      <td>0.421412</td>\n",
       "      <td>...</td>\n",
       "      <td>-0.285569</td>\n",
       "      <td>-0.028328</td>\n",
       "      <td>0.438995</td>\n",
       "      <td>0.572426</td>\n",
       "      <td>0.340228</td>\n",
       "      <td>-0.412949</td>\n",
       "      <td>-0.271771</td>\n",
       "      <td>0.087636</td>\n",
       "      <td>0.514101</td>\n",
       "      <td>FinanceBuzz_DMCA.txt</td>\n",
       "    </tr>\n",
       "    <tr>\n",
       "      <th>4</th>\n",
       "      <td>FinanceBuzz If we remove or disable access in ...</td>\n",
       "      <td>-0.735254</td>\n",
       "      <td>-0.152386</td>\n",
       "      <td>-0.368491</td>\n",
       "      <td>0.824974</td>\n",
       "      <td>0.163802</td>\n",
       "      <td>0.147596</td>\n",
       "      <td>0.312946</td>\n",
       "      <td>-0.046971</td>\n",
       "      <td>0.347785</td>\n",
       "      <td>...</td>\n",
       "      <td>-0.592601</td>\n",
       "      <td>-0.139058</td>\n",
       "      <td>-0.043620</td>\n",
       "      <td>0.325281</td>\n",
       "      <td>0.482764</td>\n",
       "      <td>0.119737</td>\n",
       "      <td>0.146850</td>\n",
       "      <td>-0.459043</td>\n",
       "      <td>0.118706</td>\n",
       "      <td>FinanceBuzz_DMCA.txt</td>\n",
       "    </tr>\n",
       "  </tbody>\n",
       "</table>\n",
       "<p>5 rows × 1026 columns</p>\n",
       "</div>"
      ],
      "text/plain": [
       "                                            sentence  embed_element_0  \\\n",
       "0  FinanceBuzz THIS NOTICE IS SUBJECT TO MODIFICA...        -0.129559   \n",
       "1  FinanceBuzz YOU MUST CHECK BACK FREQUENTLY TO ...         0.178183   \n",
       "2  FinanceBuzz It is our policy to respond to not...        -0.843620   \n",
       "3  FinanceBuzz Responses may include removing or ...        -0.154740   \n",
       "4  FinanceBuzz If we remove or disable access in ...        -0.735254   \n",
       "\n",
       "   embed_element_1  embed_element_2  embed_element_3  embed_element_4  \\\n",
       "0        -0.358322        -0.432857         0.330654        -0.167946   \n",
       "1        -0.409948         0.018674         0.550421        -0.163982   \n",
       "2        -0.220504        -0.119484         0.311968         0.344784   \n",
       "3        -0.253713         0.231295         0.663021         0.446653   \n",
       "4        -0.152386        -0.368491         0.824974         0.163802   \n",
       "\n",
       "   embed_element_5  embed_element_6  embed_element_7  embed_element_8  ...  \\\n",
       "0        -0.095894         0.059403        -0.297004         0.261421  ...   \n",
       "1        -0.064010         0.706781        -0.518907         0.975128  ...   \n",
       "2         0.439013        -0.044417        -0.821258         0.706464  ...   \n",
       "3        -0.131465        -0.257986        -0.186931         0.421412  ...   \n",
       "4         0.147596         0.312946        -0.046971         0.347785  ...   \n",
       "\n",
       "   embed_element_1015  embed_element_1016  embed_element_1017  \\\n",
       "0           -0.638149            0.160865            0.050397   \n",
       "1           -0.026903           -0.362144           -0.642567   \n",
       "2           -0.425300           -0.053282            0.580609   \n",
       "3           -0.285569           -0.028328            0.438995   \n",
       "4           -0.592601           -0.139058           -0.043620   \n",
       "\n",
       "   embed_element_1018  embed_element_1019  embed_element_1020  \\\n",
       "0            0.275447           -0.004016            0.165371   \n",
       "1            0.396593            0.658277            0.790721   \n",
       "2            0.412872            0.322933           -0.003960   \n",
       "3            0.572426            0.340228           -0.412949   \n",
       "4            0.325281            0.482764            0.119737   \n",
       "\n",
       "   embed_element_1021  embed_element_1022  embed_element_1023  \\\n",
       "0            0.137700            0.019452            0.134917   \n",
       "1            0.183814            0.522085            0.370805   \n",
       "2           -0.150190           -0.197769            0.598518   \n",
       "3           -0.271771            0.087636            0.514101   \n",
       "4            0.146850           -0.459043            0.118706   \n",
       "\n",
       "               filename  \n",
       "0  FinanceBuzz_DMCA.txt  \n",
       "1  FinanceBuzz_DMCA.txt  \n",
       "2  FinanceBuzz_DMCA.txt  \n",
       "3  FinanceBuzz_DMCA.txt  \n",
       "4  FinanceBuzz_DMCA.txt  \n",
       "\n",
       "[5 rows x 1026 columns]"
      ]
     },
     "execution_count": 9,
     "metadata": {},
     "output_type": "execute_result"
    }
   ],
   "source": [
    "# Load a file to check\n",
    "test_df = pd.read_parquet('../Text Data Embeddings/' + filenames[0].split('.')[0] + '.parquet')\n",
    "test_df.head()"
   ]
  },
  {
   "cell_type": "code",
   "execution_count": 10,
   "metadata": {
    "execution": {
     "iopub.execute_input": "2024-04-10T02:33:15.640395Z",
     "iopub.status.busy": "2024-04-10T02:33:15.640099Z",
     "iopub.status.idle": "2024-04-10T02:33:15.643650Z",
     "shell.execute_reply": "2024-04-10T02:33:15.643128Z"
    }
   },
   "outputs": [
    {
     "name": "stdout",
     "output_type": "stream",
     "text": [
      "FinanceBuzz THIS NOTICE IS SUBJECT TO MODIFICATION OR TERMINATION AT ANY TIME, WHETHER FOR CHANGES IN THE LAW OR AT THE CONVENIENCE OF BUZZERY, LLC AND ITS AFFILIATES (\"FINANCEBUZZ.COM\") WITHOUT ADVANCE NOTICE.\n",
      "FinanceBuzz YOU MUST CHECK BACK FREQUENTLY TO ENSURE THAT YOU SEE A CORRECT, CURRENT VERSION OF THE NOTICE.\n",
      "FinanceBuzz It is our policy to respond to notices of alleged infringement that comply with the Digital Millennium Copyright Act and other applicable intellectual property laws.\n",
      "FinanceBuzz Responses may include removing or disabling access to material claimed to be the subject of infringing activity and/or terminating subscribers.\n",
      "FinanceBuzz If we remove or disable access in response to such a notice, we will make a good-faith attempt to contact the owner or administrator of the affected site or content so that they may make a counter notification pursuant to sections 512(g)(2) and (3) of that Act.\n",
      "FinanceBuzz It is our policy to document all notices of alleged infringement on which we act.\n",
      "FinanceBuzz Please refer to the following detailed instructions which must be followed to protect your rights under the Digital Millennium Copyright Act.\n",
      "FinanceBuzz To file a notice of infringement with us, you must provide a written communication (by fax or regular mail -- not by email, except by prior agreement) that sets forth the items specified below.\n",
      "FinanceBuzz Please note that you may be liable for damages (including costs and attorneys' fees) if you materially misrepresent that a product or activity is infringing your copyrights.\n",
      "FinanceBuzz Accordingly, if you are not sure whether material available online infringes your copyright, we suggest that you first contact an attorney.\n",
      "FinanceBuzz A physical or electronic signature of a person authorized to act on behalf of the owner of an exclusive right that is allegedly infringed.\n",
      "FinanceBuzz Identify in sufficient detail the location of copyrighted work that you believe has been infringed upon (for example, \"The copyrighted work at issue is the text that appears on http://www.newco.com/uglytext_page.html\") or other information sufficient to specify the copyrighted work being infringed.\n",
      "FinanceBuzz If multiple copyrighted works at a single online site are covered by a single notification, a representative list of such works at that site.\n",
      "FinanceBuzz Identification of the material that is claimed to be infringing or to be the subject of infringing activity and that is to be removed or access to which is to be disabled, and information reasonably sufficient to permit us to locate the material.\n",
      "FinanceBuzz Information reasonably sufficient to permit us to contact the complaining party, such as an address, telephone number, and, if available, an electronic mail address at which the complaining party may be contacted.\n",
      "FinanceBuzz The following statement: \"I have a good faith belief that use of the material in the manner complained of is not authorized by the copyright owner, its agent, or the law.\"\n",
      "FinanceBuzz The following statement: \"I swear, under penalty of perjury, that the information in the notification is accurate, and that I am the copyright owner or am authorized to act on behalf of the owner of an exclusive right that is allegedly infringed.\"\n",
      "FinanceBuzz Adam Z.\n",
      "Email: dmca@financebuzz.com\n",
      "The administrator of an affected site or the provider of affected content may make a counter notification pursuant to sections 512(g)(2) and (3) of the Digital Millennium Copyright Act.\n",
      "FinanceBuzz When we receive a counter notification, we may reinstate the material in question.\n",
      "FinanceBuzz To file a counter notification with us, you must provide a written communication (by fax or regular mail - - not by email, except by prior agreement) that sets forth the items specified below.\n",
      "FinanceBuzz Please note that you will be liable for damages (including costs and attorneys' fees) if you materially misrepresent that a product or activity is not infringing the copyrights of others.\n",
      "FinanceBuzz Accordingly, if you are not sure whether certain material infringes the copyrights of others, we suggest that you first contact an attorney.\n",
      "FinanceBuzz A physical or electronic signature of the subscriber.\n",
      "FinanceBuzz location at which the material appeared before it was removed or access to it was disabled.\n",
      "FinanceBuzz A statement under penalty of perjury that you have a good faith belief that the material was removed or disabled as a result of mistake or misidentification of the material to be removed or disabled.\n",
      "FinanceBuzz Your name, address, and telephone number.\n",
      "FinanceBuzz The following statement: \"I consent to the jurisdiction of Federal District Court for the judicial district in which the your address is located, (or Palm Beach County, Florida if your address is outside of the United States), and that you will accept service of process from the person who provided notification under subsection (c)(1)(C) or an agent of such person.\n",
      "FinanceBuzz The following statement: \"I swear, under penalty of perjury, that I have a good faith belief that the affected material was removed or disabled as a result of a mistake or misidentification of the material to be removed or disabled.\"\n",
      "FinanceBuzz Adam Z.\n",
      "Email: dmca@financebuzz.com\n",
      "Buzzery, LLC will, in appropriate circumstances, terminate repeat infringers.\n",
      "FinanceBuzz If you believe that an account holder or subscriber is a repeat infringer, please follow the instructions above to contact Buzzery, LLC   s DMCA agent and provide information sufficient for us to verify that the account holder or subscriber is a repeat infringer.\n"
     ]
    }
   ],
   "source": [
    "# Print all values of sentence column\n",
    "for value in test_df['sentence'].values:\n",
    "    print(value)"
   ]
  },
  {
   "cell_type": "code",
   "execution_count": 11,
   "metadata": {
    "execution": {
     "iopub.execute_input": "2024-04-10T02:33:15.645720Z",
     "iopub.status.busy": "2024-04-10T02:33:15.645425Z",
     "iopub.status.idle": "2024-04-10T02:33:15.647823Z",
     "shell.execute_reply": "2024-04-10T02:33:15.647428Z"
    }
   },
   "outputs": [],
   "source": [
    "# Load Honeywell file to check\n",
    "#test_df = pd.read_parquet('../Text Data Embeddings/Honeywell_CookieNotice.parquet')\n",
    "#test_df.head()"
   ]
  }
 ],
 "metadata": {
  "kernelspec": {
   "display_name": "data_engineering_project",
   "language": "python",
   "name": "python3"
  },
  "language_info": {
   "codemirror_mode": {
    "name": "ipython",
    "version": 3
   },
   "file_extension": ".py",
   "mimetype": "text/x-python",
   "name": "python",
   "nbconvert_exporter": "python",
   "pygments_lexer": "ipython3",
   "version": "3.12.2"
  }
 },
 "nbformat": 4,
 "nbformat_minor": 2
}
