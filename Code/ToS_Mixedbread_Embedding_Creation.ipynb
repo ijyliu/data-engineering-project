{
 "cells": [
  {
   "cell_type": "markdown",
   "metadata": {},
   "source": [
    "# ToS Mixedbread Embedding Creation\n",
    "\n",
    "State-of-the-art sentence embeddings from mixedbread.ai. \n",
    "\n",
    "https://huggingface.co/mixedbread-ai/mxbai-embed-large-v1."
   ]
  },
  {
   "cell_type": "code",
   "execution_count": 21,
   "metadata": {},
   "outputs": [
    {
     "name": "stderr",
     "output_type": "stream",
     "text": [
      "[nltk_data] Downloading package punkt to\n",
      "[nltk_data]     C:\\Users\\ijyli\\AppData\\Roaming\\nltk_data...\n",
      "[nltk_data]   Package punkt is already up-to-date!\n"
     ]
    }
   ],
   "source": [
    "# Packages\n",
    "from sentence_transformers import SentenceTransformer\n",
    "# NLTK for sentence tokenization\n",
    "import nltk\n",
    "nltk.download('punkt')\n",
    "# Torch to move to GPU\n",
    "import torch\n",
    "import os\n",
    "import pandas as pd\n",
    "import time"
   ]
  },
  {
   "cell_type": "code",
   "execution_count": 22,
   "metadata": {},
   "outputs": [],
   "source": [
    "# Flag for if this is a sample run or not\n",
    "sample_run = True"
   ]
  },
  {
   "cell_type": "markdown",
   "metadata": {},
   "source": [
    "## Load Model"
   ]
  },
  {
   "cell_type": "code",
   "execution_count": 23,
   "metadata": {},
   "outputs": [
    {
     "name": "stdout",
     "output_type": "stream",
     "text": [
      "SentenceTransformer(\n",
      "  (0): Transformer({'max_seq_length': 512, 'do_lower_case': False}) with Transformer model: BertModel \n",
      "  (1): Pooling({'word_embedding_dimension': 1024, 'pooling_mode_cls_token': True, 'pooling_mode_mean_tokens': False, 'pooling_mode_max_tokens': False, 'pooling_mode_mean_sqrt_len_tokens': False, 'pooling_mode_weightedmean_tokens': False, 'pooling_mode_lasttoken': False, 'include_prompt': True})\n",
      ")\n",
      "cpu\n"
     ]
    }
   ],
   "source": [
    "model = SentenceTransformer(\"mixedbread-ai/mxbai-embed-large-v1\")\n",
    "# Move to GPU if available\n",
    "device = 'cuda' if torch.cuda.is_available() else 'cpu'\n",
    "model = model.to(device)\n",
    "# Print model\n",
    "print(model)\n",
    "# Print device\n",
    "print(device)"
   ]
  },
  {
   "cell_type": "markdown",
   "metadata": {},
   "source": [
    "## Function to Get Sentences and Embeddings from Doc"
   ]
  },
  {
   "cell_type": "code",
   "execution_count": 24,
   "metadata": {},
   "outputs": [],
   "source": [
    "def get_doc_sentences_embeddings(filename):\n",
    "    '''\n",
    "    Get sentence embeddings from a document.\n",
    "    '''\n",
    "    # Read file\n",
    "    with open('../Text Data/Terms of Service Corpus/text/' + filename, 'r', encoding='utf-8') as f:\n",
    "        doc = f.read()\n",
    "    # Strip all unicode characters\n",
    "    doc = ''.join([char if ord(char) < 128 else ' ' for char in doc])\n",
    "    # Strip lines that do not contain a period, exclamation point, or question mark, and at least one letter\n",
    "    doc = '\\n'.join([line for line in doc.split('\\n') if ('.' in line or '!' in line or '?' in line) and any([char.isalpha() for char in line])])\n",
    "    # Parse company name by taking the first part of filename before underscore\n",
    "    company_name = filename.split('_')[0]\n",
    "    # Sentence tokenize the document\n",
    "    sentences = nltk.sent_tokenize(doc)\n",
    "    # Append company name to the beginning of each sentence\n",
    "    sentences = [company_name + ' ' + sentence for sentence in sentences]\n",
    "    # Encode sentences and return\n",
    "    embeddings = model.encode(sentences)\n",
    "    return sentences, embeddings\n",
    "    "
   ]
  },
  {
   "cell_type": "markdown",
   "metadata": {},
   "source": [
    "## Get List of files"
   ]
  },
  {
   "cell_type": "code",
   "execution_count": 25,
   "metadata": {},
   "outputs": [
    {
     "name": "stdout",
     "output_type": "stream",
     "text": [
      "length of filenames: 9491\n",
      "['115media_CookiePolicy.txt', '115media_privacy.txt', '115media_Terms.txt', '11soundboards_PrivacyPolicy.txt', '123tvlive_PrivacyPolicy.txt']\n"
     ]
    }
   ],
   "source": [
    "filenames = os.listdir('../Text Data/Terms of Service Corpus/text')\n",
    "print('length of filenames:', len(filenames))\n",
    "print(filenames[:5])"
   ]
  },
  {
   "cell_type": "markdown",
   "metadata": {},
   "source": [
    "## Encode Documents and Create Parquet Files"
   ]
  },
  {
   "cell_type": "code",
   "execution_count": 26,
   "metadata": {},
   "outputs": [],
   "source": [
    "def create_parquet(filename):\n",
    "    '''\n",
    "    Save parquet file of sentences and embeddings for a document.\n",
    "    '''\n",
    "    # Get sentences and embeddings\n",
    "    # Start timer\n",
    "    start = time.time()\n",
    "    sentences, embeddings = get_doc_sentences_embeddings(filename)\n",
    "    # End timer\n",
    "    end = time.time()\n",
    "    print('Time to get embeddings:', end - start)\n",
    "    # New timer\n",
    "    start = time.time()\n",
    "    # Create dataframe\n",
    "    df = pd.DataFrame()\n",
    "    # Sentences are a column\n",
    "    df['sentence'] = sentences\n",
    "    # Add embeddings array on to the dataframe\n",
    "    df = pd.concat([df, pd.DataFrame(embeddings)], axis=1)\n",
    "    # Set column names\n",
    "    column_names = ['sentence'] + [f'embed_element_{i}' for i in range(embeddings.shape[1])]\n",
    "    df.columns = column_names\n",
    "    # Save to parquet\n",
    "    df.to_parquet('../Text Data Embeddings/' + filename.split('.')[0] + '.parquet')\n",
    "    # End timer\n",
    "    end = time.time()\n",
    "    print('Time to save parquet:', end - start)"
   ]
  },
  {
   "cell_type": "code",
   "execution_count": 27,
   "metadata": {},
   "outputs": [
    {
     "name": "stdout",
     "output_type": "stream",
     "text": [
      "Time to get embeddings: 9.69528317451477\n",
      "Time to save parquet: 0.40622687339782715\n"
     ]
    }
   ],
   "source": [
    "# If this is a sample run, run for one filename + the largest file, otherwise, run for all\n",
    "if sample_run:\n",
    "    create_parquet(filenames[0])\n",
    "    #create_parquet('Honeywell_CookieNotice.txt')"
   ]
  },
  {
   "cell_type": "code",
   "execution_count": 28,
   "metadata": {},
   "outputs": [
    {
     "data": {
      "text/html": [
       "<div>\n",
       "<style scoped>\n",
       "    .dataframe tbody tr th:only-of-type {\n",
       "        vertical-align: middle;\n",
       "    }\n",
       "\n",
       "    .dataframe tbody tr th {\n",
       "        vertical-align: top;\n",
       "    }\n",
       "\n",
       "    .dataframe thead th {\n",
       "        text-align: right;\n",
       "    }\n",
       "</style>\n",
       "<table border=\"1\" class=\"dataframe\">\n",
       "  <thead>\n",
       "    <tr style=\"text-align: right;\">\n",
       "      <th></th>\n",
       "      <th>sentence</th>\n",
       "      <th>embed_element_0</th>\n",
       "      <th>embed_element_1</th>\n",
       "      <th>embed_element_2</th>\n",
       "      <th>embed_element_3</th>\n",
       "      <th>embed_element_4</th>\n",
       "      <th>embed_element_5</th>\n",
       "      <th>embed_element_6</th>\n",
       "      <th>embed_element_7</th>\n",
       "      <th>embed_element_8</th>\n",
       "      <th>...</th>\n",
       "      <th>embed_element_1014</th>\n",
       "      <th>embed_element_1015</th>\n",
       "      <th>embed_element_1016</th>\n",
       "      <th>embed_element_1017</th>\n",
       "      <th>embed_element_1018</th>\n",
       "      <th>embed_element_1019</th>\n",
       "      <th>embed_element_1020</th>\n",
       "      <th>embed_element_1021</th>\n",
       "      <th>embed_element_1022</th>\n",
       "      <th>embed_element_1023</th>\n",
       "    </tr>\n",
       "  </thead>\n",
       "  <tbody>\n",
       "    <tr>\n",
       "      <th>0</th>\n",
       "      <td>115media Careers &amp;amp.</td>\n",
       "      <td>0.081622</td>\n",
       "      <td>0.186236</td>\n",
       "      <td>-0.403659</td>\n",
       "      <td>0.188761</td>\n",
       "      <td>0.116395</td>\n",
       "      <td>-0.178390</td>\n",
       "      <td>-0.186043</td>\n",
       "      <td>-0.127867</td>\n",
       "      <td>0.417745</td>\n",
       "      <td>...</td>\n",
       "      <td>0.916923</td>\n",
       "      <td>-0.275322</td>\n",
       "      <td>-0.153453</td>\n",
       "      <td>-0.369527</td>\n",
       "      <td>0.779784</td>\n",
       "      <td>0.601135</td>\n",
       "      <td>0.300785</td>\n",
       "      <td>-0.366489</td>\n",
       "      <td>-0.805873</td>\n",
       "      <td>0.564936</td>\n",
       "    </tr>\n",
       "    <tr>\n",
       "      <th>1</th>\n",
       "      <td>115media Why Work for 1105?</td>\n",
       "      <td>0.402588</td>\n",
       "      <td>0.343286</td>\n",
       "      <td>-0.282753</td>\n",
       "      <td>0.840287</td>\n",
       "      <td>0.062783</td>\n",
       "      <td>-0.187640</td>\n",
       "      <td>0.449536</td>\n",
       "      <td>-0.195319</td>\n",
       "      <td>0.155475</td>\n",
       "      <td>...</td>\n",
       "      <td>0.765590</td>\n",
       "      <td>-0.443140</td>\n",
       "      <td>-0.112778</td>\n",
       "      <td>0.208237</td>\n",
       "      <td>0.521470</td>\n",
       "      <td>0.942637</td>\n",
       "      <td>0.328892</td>\n",
       "      <td>-0.428862</td>\n",
       "      <td>-0.576944</td>\n",
       "      <td>0.530157</td>\n",
       "    </tr>\n",
       "    <tr>\n",
       "      <th>2</th>\n",
       "      <td>115media Apply Today!</td>\n",
       "      <td>-0.223923</td>\n",
       "      <td>0.459062</td>\n",
       "      <td>-0.686977</td>\n",
       "      <td>0.469076</td>\n",
       "      <td>-0.083358</td>\n",
       "      <td>0.541975</td>\n",
       "      <td>-0.136509</td>\n",
       "      <td>0.417895</td>\n",
       "      <td>0.637240</td>\n",
       "      <td>...</td>\n",
       "      <td>0.907129</td>\n",
       "      <td>-0.562752</td>\n",
       "      <td>-0.057301</td>\n",
       "      <td>-0.782100</td>\n",
       "      <td>0.866764</td>\n",
       "      <td>0.895059</td>\n",
       "      <td>0.267527</td>\n",
       "      <td>-0.193847</td>\n",
       "      <td>-0.860717</td>\n",
       "      <td>0.768427</td>\n",
       "    </tr>\n",
       "    <tr>\n",
       "      <th>3</th>\n",
       "      <td>115media How Can We Help?</td>\n",
       "      <td>0.216342</td>\n",
       "      <td>0.515327</td>\n",
       "      <td>-1.257966</td>\n",
       "      <td>0.625449</td>\n",
       "      <td>0.365142</td>\n",
       "      <td>-0.079858</td>\n",
       "      <td>0.517099</td>\n",
       "      <td>0.627124</td>\n",
       "      <td>0.538878</td>\n",
       "      <td>...</td>\n",
       "      <td>0.973817</td>\n",
       "      <td>-0.428779</td>\n",
       "      <td>-0.197326</td>\n",
       "      <td>-0.630904</td>\n",
       "      <td>1.070016</td>\n",
       "      <td>1.036640</td>\n",
       "      <td>0.317606</td>\n",
       "      <td>-0.424600</td>\n",
       "      <td>-0.603931</td>\n",
       "      <td>0.496899</td>\n",
       "    </tr>\n",
       "    <tr>\n",
       "      <th>4</th>\n",
       "      <td>115media 1105 Media uses industry standard coo...</td>\n",
       "      <td>0.155285</td>\n",
       "      <td>0.671658</td>\n",
       "      <td>0.072046</td>\n",
       "      <td>0.605800</td>\n",
       "      <td>-0.004579</td>\n",
       "      <td>-0.107331</td>\n",
       "      <td>0.256348</td>\n",
       "      <td>-0.583437</td>\n",
       "      <td>0.760930</td>\n",
       "      <td>...</td>\n",
       "      <td>0.471236</td>\n",
       "      <td>-0.329914</td>\n",
       "      <td>-0.100052</td>\n",
       "      <td>-0.264092</td>\n",
       "      <td>1.008361</td>\n",
       "      <td>0.510139</td>\n",
       "      <td>-0.175097</td>\n",
       "      <td>-0.135984</td>\n",
       "      <td>-0.023450</td>\n",
       "      <td>1.076122</td>\n",
       "    </tr>\n",
       "  </tbody>\n",
       "</table>\n",
       "<p>5 rows × 1025 columns</p>\n",
       "</div>"
      ],
      "text/plain": [
       "                                            sentence  embed_element_0  \\\n",
       "0                             115media Careers &amp.         0.081622   \n",
       "1                        115media Why Work for 1105?         0.402588   \n",
       "2                              115media Apply Today!        -0.223923   \n",
       "3                          115media How Can We Help?         0.216342   \n",
       "4  115media 1105 Media uses industry standard coo...         0.155285   \n",
       "\n",
       "   embed_element_1  embed_element_2  embed_element_3  embed_element_4  \\\n",
       "0         0.186236        -0.403659         0.188761         0.116395   \n",
       "1         0.343286        -0.282753         0.840287         0.062783   \n",
       "2         0.459062        -0.686977         0.469076        -0.083358   \n",
       "3         0.515327        -1.257966         0.625449         0.365142   \n",
       "4         0.671658         0.072046         0.605800        -0.004579   \n",
       "\n",
       "   embed_element_5  embed_element_6  embed_element_7  embed_element_8  ...  \\\n",
       "0        -0.178390        -0.186043        -0.127867         0.417745  ...   \n",
       "1        -0.187640         0.449536        -0.195319         0.155475  ...   \n",
       "2         0.541975        -0.136509         0.417895         0.637240  ...   \n",
       "3        -0.079858         0.517099         0.627124         0.538878  ...   \n",
       "4        -0.107331         0.256348        -0.583437         0.760930  ...   \n",
       "\n",
       "   embed_element_1014  embed_element_1015  embed_element_1016  \\\n",
       "0            0.916923           -0.275322           -0.153453   \n",
       "1            0.765590           -0.443140           -0.112778   \n",
       "2            0.907129           -0.562752           -0.057301   \n",
       "3            0.973817           -0.428779           -0.197326   \n",
       "4            0.471236           -0.329914           -0.100052   \n",
       "\n",
       "   embed_element_1017  embed_element_1018  embed_element_1019  \\\n",
       "0           -0.369527            0.779784            0.601135   \n",
       "1            0.208237            0.521470            0.942637   \n",
       "2           -0.782100            0.866764            0.895059   \n",
       "3           -0.630904            1.070016            1.036640   \n",
       "4           -0.264092            1.008361            0.510139   \n",
       "\n",
       "   embed_element_1020  embed_element_1021  embed_element_1022  \\\n",
       "0            0.300785           -0.366489           -0.805873   \n",
       "1            0.328892           -0.428862           -0.576944   \n",
       "2            0.267527           -0.193847           -0.860717   \n",
       "3            0.317606           -0.424600           -0.603931   \n",
       "4           -0.175097           -0.135984           -0.023450   \n",
       "\n",
       "   embed_element_1023  \n",
       "0            0.564936  \n",
       "1            0.530157  \n",
       "2            0.768427  \n",
       "3            0.496899  \n",
       "4            1.076122  \n",
       "\n",
       "[5 rows x 1025 columns]"
      ]
     },
     "execution_count": 28,
     "metadata": {},
     "output_type": "execute_result"
    }
   ],
   "source": [
    "# Load a file to check\n",
    "test_df = pd.read_parquet('../Text Data Embeddings/' + filenames[0].split('.')[0] + '.parquet')\n",
    "test_df.head()"
   ]
  },
  {
   "cell_type": "code",
   "execution_count": 29,
   "metadata": {},
   "outputs": [
    {
     "name": "stdout",
     "output_type": "stream",
     "text": [
      "115media Careers &amp.\n",
      "115media Why Work for 1105?\n",
      "115media Apply Today!\n",
      "115media How Can We Help?\n",
      "115media 1105 Media uses industry standard cookie technology (examples below) in order to maximize customer experience and operational efficiency.&nbsp.\n",
      "115media When you visit one of 1105 Media's websites, we may send you a cookie.\n",
      "115media A cookie is a small file which is placed on your computer or device.\n",
      "115media These cookies are essential for the operation of our websites.\n",
      "115media Without the use of these cookies, parts of our websites would not function.\n",
      "115media For example, we use cookies to help us identify which of our readers have previously registered in order to access premium content on our websites.\n",
      "115media We use these types of cookies to monitor our websites' performance and how users may interact with it.\n",
      "115media These cookies provide us with information that helps us provide better products to our users and also to identify any areas that may need maintenance.\n",
      "115media Functional cookies are used to remember your preferences on our websites.\n",
      "115media An example would be saving your \"handle\" name to be used when submitting comments on our websites.\n",
      "115media We use cookies to provide tailored advertising which we believe is relevant to you.\n",
      "115media Additionally, some of our partners use cookies on our sites in order to provide tailored advertising to you when you subsequently visit sites outside of our network.\n",
      "115media Online behavioral advertising is a way of providing advertisements on the websites you visit and making them more relevant to your interests.\n",
      "115media This is done by grouping together shared interests based upon previous web browsing activity.\n",
      "115media Advertising is then displayed to you when you visit a website that matches these interests.\n",
      "115media Behavioral advertising is based upon your web browsing activity over a period of time     so it's different than advertising you may see when you're looking for something online using a search engine (e.g., Google) or on the website you may be visiting at a particular time.\n",
      "115media As an example, you may be doing research on products and services related to data Centre virtualization.\n",
      "115media If a data Centre virtualization provider is conducting an advertising campaign on our network, as you browse the relevant portions of our sites, we may serve you with one of the advertisements of one of their solutions.\n",
      "115media We may also track IP addresses.\n",
      "115media An IP address is a number that can identify an Internet Service Provider and country location.\n",
      "115media It cannot provide personal information.\n",
      "115media You are not obliged to accept cookies and may modify your browser so that it will not accept cookies.\n",
      "115media The browser you use to surf the web not only allows you to see the cookies that you have got but also allows you to control their use.\n",
      "115media You can control them by allowing them, deleting them individually or deleting all of them.\n",
      "115media You can also set your browser to not accept cookies altogether.\n",
      "115media If this option is selected, you should be aware that many websites will not function properly or at all.\n",
      "115media It may be possible to set your browser to not accept cookies and ask for your consent before each cookie is set on your device.\n",
      "115media This gives you control over what is set on your device, however, it may slow down your browsing experience.\n",
      "115media You may also opt out or change your behavioral advertising cookie preferences by visiting the opt-out page for the Digital Advertising Alliance (U.S.\n",
      "residents and those not in the EU or Canada), the European Interactive Digital Advertising Alliance (EU residents), or the Digital Advertising Alliance of Canada (Canadian residents).\n",
      "115media There are different levels of control too.\n",
      "115media You are able to prevent just third-party cookies being deployed, effectively opting out of third party behavioral advertising, and some browsers even allow you to block specific companies you do not wish to deploy a cookie, instead of selecting all companies.\n",
      "115media How can I prevent Online Behavioral Advertising?\n",
      "115media Further to using your browser to controlling the use of cookies, there are also other ways that you can opt out of Online Behavioral Advertising.\n",
      "115media The \"Your Online Choices\" page provided by the Internet Advertising Bureau (IAB), provides an easy way to opt out of behavioral advertising from each (or all) of the networks represented by the IAB.\n",
      "115media Flash Cookies\n",
      " When you use one of our websites that uses Macromedia Flash Player, a small Flash Cookie may be used.\n",
      "115media The purpose of using these cookies is to store your flash player preferences and enhance your browsing experience.\n",
      "115media Flash Cookies are stored on your computer in a similar way to standard cookies, except they are stored in a different location.\n",
      "115media Due to this, it is not possible to block or manage Flash Cookies directly from your browser.\n",
      "115media In order to manage or delete Flash Cookies, please visit Adobe's website, which provides full information by clicking here.\n",
      "115media Does this Policy Change?\n",
      "115media We may change this Cookie Policy at any time.\n",
      "115media Please take a look at the date at the top of this page to see when this Cookie Policy was last updated.\n",
      "115media Any changes in this Cookie Policy will become effective when we make the revised Cookie Policy available on the Service.\n",
      "115media Useful information about Cookies\n",
      "If you have any questions about the use of cookies on our websites, please read our Privacy Policy or email us at privacy@1105media.com\n",
      "    2018-2021 1105 Media Inc.\n"
     ]
    }
   ],
   "source": [
    "# Print all values of sentence column\n",
    "for value in test_df['sentence'].values:\n",
    "    print(value)"
   ]
  },
  {
   "cell_type": "code",
   "execution_count": 30,
   "metadata": {},
   "outputs": [
    {
     "ename": "FileNotFoundError",
     "evalue": "[Errno 2] No such file or directory: '../Text Data Embeddings/Honeywell_CookieNotice.parquet'",
     "output_type": "error",
     "traceback": [
      "\u001b[1;31m---------------------------------------------------------------------------\u001b[0m",
      "\u001b[1;31mFileNotFoundError\u001b[0m                         Traceback (most recent call last)",
      "Cell \u001b[1;32mIn[30], line 2\u001b[0m\n\u001b[0;32m      1\u001b[0m \u001b[38;5;66;03m# Load Honeywell file to check\u001b[39;00m\n\u001b[1;32m----> 2\u001b[0m test_df \u001b[38;5;241m=\u001b[39m \u001b[43mpd\u001b[49m\u001b[38;5;241;43m.\u001b[39;49m\u001b[43mread_parquet\u001b[49m\u001b[43m(\u001b[49m\u001b[38;5;124;43m'\u001b[39;49m\u001b[38;5;124;43m../Text Data Embeddings/Honeywell_CookieNotice.parquet\u001b[39;49m\u001b[38;5;124;43m'\u001b[39;49m\u001b[43m)\u001b[49m\n\u001b[0;32m      3\u001b[0m test_df\u001b[38;5;241m.\u001b[39mhead()\n",
      "File \u001b[1;32mc:\\Users\\ijyli\\miniforge3\\envs\\data_engineering_project\\Lib\\site-packages\\pandas\\io\\parquet.py:667\u001b[0m, in \u001b[0;36mread_parquet\u001b[1;34m(path, engine, columns, storage_options, use_nullable_dtypes, dtype_backend, filesystem, filters, **kwargs)\u001b[0m\n\u001b[0;32m    664\u001b[0m     use_nullable_dtypes \u001b[38;5;241m=\u001b[39m \u001b[38;5;28;01mFalse\u001b[39;00m\n\u001b[0;32m    665\u001b[0m check_dtype_backend(dtype_backend)\n\u001b[1;32m--> 667\u001b[0m \u001b[38;5;28;01mreturn\u001b[39;00m \u001b[43mimpl\u001b[49m\u001b[38;5;241;43m.\u001b[39;49m\u001b[43mread\u001b[49m\u001b[43m(\u001b[49m\n\u001b[0;32m    668\u001b[0m \u001b[43m    \u001b[49m\u001b[43mpath\u001b[49m\u001b[43m,\u001b[49m\n\u001b[0;32m    669\u001b[0m \u001b[43m    \u001b[49m\u001b[43mcolumns\u001b[49m\u001b[38;5;241;43m=\u001b[39;49m\u001b[43mcolumns\u001b[49m\u001b[43m,\u001b[49m\n\u001b[0;32m    670\u001b[0m \u001b[43m    \u001b[49m\u001b[43mfilters\u001b[49m\u001b[38;5;241;43m=\u001b[39;49m\u001b[43mfilters\u001b[49m\u001b[43m,\u001b[49m\n\u001b[0;32m    671\u001b[0m \u001b[43m    \u001b[49m\u001b[43mstorage_options\u001b[49m\u001b[38;5;241;43m=\u001b[39;49m\u001b[43mstorage_options\u001b[49m\u001b[43m,\u001b[49m\n\u001b[0;32m    672\u001b[0m \u001b[43m    \u001b[49m\u001b[43muse_nullable_dtypes\u001b[49m\u001b[38;5;241;43m=\u001b[39;49m\u001b[43muse_nullable_dtypes\u001b[49m\u001b[43m,\u001b[49m\n\u001b[0;32m    673\u001b[0m \u001b[43m    \u001b[49m\u001b[43mdtype_backend\u001b[49m\u001b[38;5;241;43m=\u001b[39;49m\u001b[43mdtype_backend\u001b[49m\u001b[43m,\u001b[49m\n\u001b[0;32m    674\u001b[0m \u001b[43m    \u001b[49m\u001b[43mfilesystem\u001b[49m\u001b[38;5;241;43m=\u001b[39;49m\u001b[43mfilesystem\u001b[49m\u001b[43m,\u001b[49m\n\u001b[0;32m    675\u001b[0m \u001b[43m    \u001b[49m\u001b[38;5;241;43m*\u001b[39;49m\u001b[38;5;241;43m*\u001b[39;49m\u001b[43mkwargs\u001b[49m\u001b[43m,\u001b[49m\n\u001b[0;32m    676\u001b[0m \u001b[43m\u001b[49m\u001b[43m)\u001b[49m\n",
      "File \u001b[1;32mc:\\Users\\ijyli\\miniforge3\\envs\\data_engineering_project\\Lib\\site-packages\\pandas\\io\\parquet.py:396\u001b[0m, in \u001b[0;36mFastParquetImpl.read\u001b[1;34m(self, path, columns, filters, storage_options, filesystem, **kwargs)\u001b[0m\n\u001b[0;32m    391\u001b[0m     parquet_kwargs[\u001b[38;5;124m\"\u001b[39m\u001b[38;5;124mfs\u001b[39m\u001b[38;5;124m\"\u001b[39m] \u001b[38;5;241m=\u001b[39m fsspec\u001b[38;5;241m.\u001b[39mopen(path, \u001b[38;5;124m\"\u001b[39m\u001b[38;5;124mrb\u001b[39m\u001b[38;5;124m\"\u001b[39m, \u001b[38;5;241m*\u001b[39m\u001b[38;5;241m*\u001b[39m(storage_options \u001b[38;5;129;01mor\u001b[39;00m {}))\u001b[38;5;241m.\u001b[39mfs\n\u001b[0;32m    392\u001b[0m \u001b[38;5;28;01melif\u001b[39;00m \u001b[38;5;28misinstance\u001b[39m(path, \u001b[38;5;28mstr\u001b[39m) \u001b[38;5;129;01mand\u001b[39;00m \u001b[38;5;129;01mnot\u001b[39;00m os\u001b[38;5;241m.\u001b[39mpath\u001b[38;5;241m.\u001b[39misdir(path):\n\u001b[0;32m    393\u001b[0m     \u001b[38;5;66;03m# use get_handle only when we are very certain that it is not a directory\u001b[39;00m\n\u001b[0;32m    394\u001b[0m     \u001b[38;5;66;03m# fsspec resources can also point to directories\u001b[39;00m\n\u001b[0;32m    395\u001b[0m     \u001b[38;5;66;03m# this branch is used for example when reading from non-fsspec URLs\u001b[39;00m\n\u001b[1;32m--> 396\u001b[0m     handles \u001b[38;5;241m=\u001b[39m \u001b[43mget_handle\u001b[49m\u001b[43m(\u001b[49m\n\u001b[0;32m    397\u001b[0m \u001b[43m        \u001b[49m\u001b[43mpath\u001b[49m\u001b[43m,\u001b[49m\u001b[43m \u001b[49m\u001b[38;5;124;43m\"\u001b[39;49m\u001b[38;5;124;43mrb\u001b[39;49m\u001b[38;5;124;43m\"\u001b[39;49m\u001b[43m,\u001b[49m\u001b[43m \u001b[49m\u001b[43mis_text\u001b[49m\u001b[38;5;241;43m=\u001b[39;49m\u001b[38;5;28;43;01mFalse\u001b[39;49;00m\u001b[43m,\u001b[49m\u001b[43m \u001b[49m\u001b[43mstorage_options\u001b[49m\u001b[38;5;241;43m=\u001b[39;49m\u001b[43mstorage_options\u001b[49m\n\u001b[0;32m    398\u001b[0m \u001b[43m    \u001b[49m\u001b[43m)\u001b[49m\n\u001b[0;32m    399\u001b[0m     path \u001b[38;5;241m=\u001b[39m handles\u001b[38;5;241m.\u001b[39mhandle\n\u001b[0;32m    401\u001b[0m \u001b[38;5;28;01mtry\u001b[39;00m:\n",
      "File \u001b[1;32mc:\\Users\\ijyli\\miniforge3\\envs\\data_engineering_project\\Lib\\site-packages\\pandas\\io\\common.py:882\u001b[0m, in \u001b[0;36mget_handle\u001b[1;34m(path_or_buf, mode, encoding, compression, memory_map, is_text, errors, storage_options)\u001b[0m\n\u001b[0;32m    873\u001b[0m         handle \u001b[38;5;241m=\u001b[39m \u001b[38;5;28mopen\u001b[39m(\n\u001b[0;32m    874\u001b[0m             handle,\n\u001b[0;32m    875\u001b[0m             ioargs\u001b[38;5;241m.\u001b[39mmode,\n\u001b[1;32m   (...)\u001b[0m\n\u001b[0;32m    878\u001b[0m             newline\u001b[38;5;241m=\u001b[39m\u001b[38;5;124m\"\u001b[39m\u001b[38;5;124m\"\u001b[39m,\n\u001b[0;32m    879\u001b[0m         )\n\u001b[0;32m    880\u001b[0m     \u001b[38;5;28;01melse\u001b[39;00m:\n\u001b[0;32m    881\u001b[0m         \u001b[38;5;66;03m# Binary mode\u001b[39;00m\n\u001b[1;32m--> 882\u001b[0m         handle \u001b[38;5;241m=\u001b[39m \u001b[38;5;28;43mopen\u001b[39;49m\u001b[43m(\u001b[49m\u001b[43mhandle\u001b[49m\u001b[43m,\u001b[49m\u001b[43m \u001b[49m\u001b[43mioargs\u001b[49m\u001b[38;5;241;43m.\u001b[39;49m\u001b[43mmode\u001b[49m\u001b[43m)\u001b[49m\n\u001b[0;32m    883\u001b[0m     handles\u001b[38;5;241m.\u001b[39mappend(handle)\n\u001b[0;32m    885\u001b[0m \u001b[38;5;66;03m# Convert BytesIO or file objects passed with an encoding\u001b[39;00m\n",
      "\u001b[1;31mFileNotFoundError\u001b[0m: [Errno 2] No such file or directory: '../Text Data Embeddings/Honeywell_CookieNotice.parquet'"
     ]
    }
   ],
   "source": [
    "# Load Honeywell file to check\n",
    "test_df = pd.read_parquet('../Text Data Embeddings/Honeywell_CookieNotice.parquet')\n",
    "test_df.head()"
   ]
  }
 ],
 "metadata": {
  "kernelspec": {
   "display_name": "data_engineering_project",
   "language": "python",
   "name": "python3"
  },
  "language_info": {
   "codemirror_mode": {
    "name": "ipython",
    "version": 3
   },
   "file_extension": ".py",
   "mimetype": "text/x-python",
   "name": "python",
   "nbconvert_exporter": "python",
   "pygments_lexer": "ipython3",
   "version": "3.12.2"
  }
 },
 "nbformat": 4,
 "nbformat_minor": 2
}
