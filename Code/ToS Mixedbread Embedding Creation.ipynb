{
 "cells": [
  {
   "cell_type": "markdown",
   "metadata": {},
   "source": [
    "# ToS Mixedbread Embedding Creation\n",
    "\n",
    "State-of-the-art sentence embeddings from mixedbread.ai. \n",
    "\n",
    "https://huggingface.co/mixedbread-ai/mxbai-embed-large-v1."
   ]
  },
  {
   "cell_type": "code",
   "execution_count": 1,
   "metadata": {},
   "outputs": [
    {
     "name": "stderr",
     "output_type": "stream",
     "text": [
      "c:\\Users\\ijyli\\anaconda3\\envs\\data_engineering_project\\Lib\\site-packages\\tqdm\\auto.py:21: TqdmWarning: IProgress not found. Please update jupyter and ipywidgets. See https://ipywidgets.readthedocs.io/en/stable/user_install.html\n",
      "  from .autonotebook import tqdm as notebook_tqdm\n",
      "[nltk_data] Downloading package punkt to\n",
      "[nltk_data]     C:\\Users\\ijyli\\AppData\\Roaming\\nltk_data...\n",
      "[nltk_data]   Package punkt is already up-to-date!\n"
     ]
    },
    {
     "data": {
      "text/plain": [
       "True"
      ]
     },
     "execution_count": 1,
     "metadata": {},
     "output_type": "execute_result"
    }
   ],
   "source": [
    "# Packages\n",
    "from sentence_transformers import SentenceTransformer\n",
    "# NLTK for sentence tokenization\n",
    "import nltk\n",
    "nltk.download('punkt')"
   ]
  },
  {
   "cell_type": "markdown",
   "metadata": {},
   "source": [
    "## Load Model"
   ]
  },
  {
   "cell_type": "code",
   "execution_count": 2,
   "metadata": {},
   "outputs": [],
   "source": [
    "model = SentenceTransformer(\"mixedbread-ai/mxbai-embed-large-v1\")"
   ]
  },
  {
   "cell_type": "markdown",
   "metadata": {},
   "source": [
    "## Function to Get Embeddings from Doc"
   ]
  },
  {
   "cell_type": "code",
   "execution_count": null,
   "metadata": {},
   "outputs": [],
   "source": [
    "def get_doc_embeddings(filename):\n",
    "    '''\n",
    "    Get sentence embeddings from a document.\n",
    "    '''\n",
    "    # Read file\n",
    "    with open('../Text Data/Terms of Service Corpus/text/' + filename, 'r') as f:\n",
    "        doc = f.read()\n",
    "    # Convert unicode to ascii\n",
    "    doc = doc.encode('ascii', 'ignore').decode('ascii')\n",
    "    # Parse company name by taking the first part of filename before underscore\n",
    "    company_name = filename.split('_')[0]\n",
    "    # Sentence tokenize the document\n",
    "    sentences = nltk.sent_tokenize(doc)\n",
    "    # Append company name to the beginning of each sentence\n",
    "    sentences = [company_name + ' ' + sentence for sentence in sentences]\n",
    "    # Encode sentences and return\n",
    "    embeddings = model.encode(sentences)\n",
    "    return embeddings\n",
    "    "
   ]
  },
  {
   "cell_type": "markdown",
   "metadata": {},
   "source": [
    "## Load files"
   ]
  }
 ],
 "metadata": {
  "kernelspec": {
   "display_name": "data_engineering_project",
   "language": "python",
   "name": "python3"
  },
  "language_info": {
   "codemirror_mode": {
    "name": "ipython",
    "version": 3
   },
   "file_extension": ".py",
   "mimetype": "text/x-python",
   "name": "python",
   "nbconvert_exporter": "python",
   "pygments_lexer": "ipython3",
   "version": "3.11.8"
  }
 },
 "nbformat": 4,
 "nbformat_minor": 2
}
