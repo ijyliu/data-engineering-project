{
 "cells": [
  {
   "cell_type": "code",
   "execution_count": 1,
   "metadata": {},
   "outputs": [
    {
     "name": "stdout",
     "output_type": "stream",
     "text": [
      "Collection movies created.\n",
      "Data inserted. IDs: [448954348278383407, 448954348278383408, 448954348278383409, 448954348278383410, 448954348278383411, 448954348278383412, 448954348278383413, 448954348278383414, 448954348278383415, 448954348278383416]\n"
     ]
    }
   ],
   "source": [
    "from pymilvus import CollectionSchema, FieldSchema, DataType, Collection, connections, utility\n",
    "import json\n",
    "\n",
    "file_path = 'dummy_data.json'\n",
    "\n",
    "with open(file_path, 'r') as json_file:\n",
    "  description_vectors_list = json.load(json_file)\n",
    "\n",
    "connections.connect(host='localhost', port='19530')\n",
    "collection_name = 'movies'\n",
    "\n",
    "if collection_name not in utility.list_collections():\n",
    "  fields = [\n",
    "    FieldSchema(name=\"description_id\", dtype=DataType.INT64, is_primary=True, auto_id=True),\n",
    "    FieldSchema(name=\"vector\", dtype=DataType.FLOAT_VECTOR, dim=128)\n",
    "  ]\n",
    "  \n",
    "  schema = CollectionSchema(fields, description=\"Description Embeddings\")\n",
    "  collection = Collection(name=collection_name, schema=schema)\n",
    "  print(f\"Collection {collection_name} created.\")\n",
    "else:\n",
    "  collection = Collection(name=collection_name)\n",
    "  print(f\"Collection {collection_name} already exists.\")\n",
    "\n",
    "vectors = [entry[\"vector\"] for entry in description_vectors_list]\n",
    "insert_result = collection.insert([vectors])\n",
    "print(\"Data inserted. IDs:\", insert_result.primary_keys)\n",
    "\n",
    "collection.create_index(field_name=\"vector\", index_params={\"index_type\": \"IVF_FLAT\", \"metric_type\": \"L2\", \"params\": {\"nlist\": 128}})\n",
    "collection.load()"
   ]
  }
 ],
 "metadata": {
  "kernelspec": {
   "display_name": "data_engineering_project",
   "language": "python",
   "name": "python3"
  },
  "language_info": {
   "codemirror_mode": {
    "name": "ipython",
    "version": 3
   },
   "file_extension": ".py",
   "mimetype": "text/x-python",
   "name": "python",
   "nbconvert_exporter": "python",
   "pygments_lexer": "ipython3",
   "version": "3.12.2"
  }
 },
 "nbformat": 4,
 "nbformat_minor": 2
}
